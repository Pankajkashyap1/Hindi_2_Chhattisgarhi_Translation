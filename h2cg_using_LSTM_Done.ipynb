{
  "nbformat": 4,
  "nbformat_minor": 0,
  "metadata": {
    "colab": {
      "provenance": [],
      "authorship_tag": "ABX9TyN6ImlxceowleR2BMj4jp8a",
      "include_colab_link": true
    },
    "kernelspec": {
      "name": "python3",
      "display_name": "Python 3"
    },
    "language_info": {
      "name": "python"
    }
  },
  "cells": [
    {
      "cell_type": "markdown",
      "metadata": {
        "id": "view-in-github",
        "colab_type": "text"
      },
      "source": [
        "<a href=\"https://colab.research.google.com/github/Pankajkashyap1/Hindi_2_Chhattisgarhi_Translation/blob/master/h2cg_using_LSTM_Done.ipynb\" target=\"_parent\"><img src=\"https://colab.research.google.com/assets/colab-badge.svg\" alt=\"Open In Colab\"/></a>"
      ]
    },
    {
      "cell_type": "markdown",
      "source": [
        "**Import the important Directories**"
      ],
      "metadata": {
        "id": "Em-VxyYIZHx4"
      }
    },
    {
      "cell_type": "code",
      "execution_count": null,
      "metadata": {
        "id": "6fzIp2gpnQ02"
      },
      "outputs": [],
      "source": [
        "import numpy as np # linear algebra\n",
        "import pandas as pd # data processing, CSV file I/O (e.g. pd.read_csv)\n",
        "\n",
        "# Input data files are available in the \"../input/\" directory.\n",
        "# For example, running this (by clicking run or pressing Shift+Enter) will list all files under the input directory\n",
        "\n",
        "import os\n"
      ]
    },
    {
      "cell_type": "code",
      "source": [
        "import keras\n",
        "from keras.models import Model\n",
        "from keras.layers import Input, LSTM, Dense,TimeDistributed,Embedding,Bidirectional\n",
        "from keras.preprocessing.text import Tokenizer\n",
        "from keras.preprocessing.sequence import pad_sequences\n",
        "from string import digits\n",
        "import nltk\n",
        "import re\n",
        "import string\n",
        "pd.set_option('display.max_rows', 500)\n",
        "pd.set_option('display.max_columns', 500)\n",
        "pd.set_option('display.width', 1000)\n",
        "pd.set_option('display.max_colwidth', 1)"
      ],
      "metadata": {
        "id": "CshLDrAVnRWk"
      },
      "execution_count": null,
      "outputs": []
    },
    {
      "cell_type": "markdown",
      "source": [
        "**Upload the DATASET from the local folder**"
      ],
      "metadata": {
        "id": "cfEvZuSSZhmz"
      }
    },
    {
      "cell_type": "code",
      "source": [
        "from google.colab import files\n",
        "uploaded= files.upload()"
      ],
      "metadata": {
        "colab": {
          "base_uri": "https://localhost:8080/",
          "height": 74
        },
        "id": "fuGnddUCnRrp",
        "outputId": "76fc588c-0e36-47d3-ab68-24626aaa0089"
      },
      "execution_count": null,
      "outputs": [
        {
          "output_type": "display_data",
          "data": {
            "text/plain": [
              "<IPython.core.display.HTML object>"
            ],
            "text/html": [
              "\n",
              "     <input type=\"file\" id=\"files-67da5fb7-5dba-4499-9003-48bc43dc8122\" name=\"files[]\" multiple disabled\n",
              "        style=\"border:none\" />\n",
              "     <output id=\"result-67da5fb7-5dba-4499-9003-48bc43dc8122\">\n",
              "      Upload widget is only available when the cell has been executed in the\n",
              "      current browser session. Please rerun this cell to enable.\n",
              "      </output>\n",
              "      <script>// Copyright 2017 Google LLC\n",
              "//\n",
              "// Licensed under the Apache License, Version 2.0 (the \"License\");\n",
              "// you may not use this file except in compliance with the License.\n",
              "// You may obtain a copy of the License at\n",
              "//\n",
              "//      http://www.apache.org/licenses/LICENSE-2.0\n",
              "//\n",
              "// Unless required by applicable law or agreed to in writing, software\n",
              "// distributed under the License is distributed on an \"AS IS\" BASIS,\n",
              "// WITHOUT WARRANTIES OR CONDITIONS OF ANY KIND, either express or implied.\n",
              "// See the License for the specific language governing permissions and\n",
              "// limitations under the License.\n",
              "\n",
              "/**\n",
              " * @fileoverview Helpers for google.colab Python module.\n",
              " */\n",
              "(function(scope) {\n",
              "function span(text, styleAttributes = {}) {\n",
              "  const element = document.createElement('span');\n",
              "  element.textContent = text;\n",
              "  for (const key of Object.keys(styleAttributes)) {\n",
              "    element.style[key] = styleAttributes[key];\n",
              "  }\n",
              "  return element;\n",
              "}\n",
              "\n",
              "// Max number of bytes which will be uploaded at a time.\n",
              "const MAX_PAYLOAD_SIZE = 100 * 1024;\n",
              "\n",
              "function _uploadFiles(inputId, outputId) {\n",
              "  const steps = uploadFilesStep(inputId, outputId);\n",
              "  const outputElement = document.getElementById(outputId);\n",
              "  // Cache steps on the outputElement to make it available for the next call\n",
              "  // to uploadFilesContinue from Python.\n",
              "  outputElement.steps = steps;\n",
              "\n",
              "  return _uploadFilesContinue(outputId);\n",
              "}\n",
              "\n",
              "// This is roughly an async generator (not supported in the browser yet),\n",
              "// where there are multiple asynchronous steps and the Python side is going\n",
              "// to poll for completion of each step.\n",
              "// This uses a Promise to block the python side on completion of each step,\n",
              "// then passes the result of the previous step as the input to the next step.\n",
              "function _uploadFilesContinue(outputId) {\n",
              "  const outputElement = document.getElementById(outputId);\n",
              "  const steps = outputElement.steps;\n",
              "\n",
              "  const next = steps.next(outputElement.lastPromiseValue);\n",
              "  return Promise.resolve(next.value.promise).then((value) => {\n",
              "    // Cache the last promise value to make it available to the next\n",
              "    // step of the generator.\n",
              "    outputElement.lastPromiseValue = value;\n",
              "    return next.value.response;\n",
              "  });\n",
              "}\n",
              "\n",
              "/**\n",
              " * Generator function which is called between each async step of the upload\n",
              " * process.\n",
              " * @param {string} inputId Element ID of the input file picker element.\n",
              " * @param {string} outputId Element ID of the output display.\n",
              " * @return {!Iterable<!Object>} Iterable of next steps.\n",
              " */\n",
              "function* uploadFilesStep(inputId, outputId) {\n",
              "  const inputElement = document.getElementById(inputId);\n",
              "  inputElement.disabled = false;\n",
              "\n",
              "  const outputElement = document.getElementById(outputId);\n",
              "  outputElement.innerHTML = '';\n",
              "\n",
              "  const pickedPromise = new Promise((resolve) => {\n",
              "    inputElement.addEventListener('change', (e) => {\n",
              "      resolve(e.target.files);\n",
              "    });\n",
              "  });\n",
              "\n",
              "  const cancel = document.createElement('button');\n",
              "  inputElement.parentElement.appendChild(cancel);\n",
              "  cancel.textContent = 'Cancel upload';\n",
              "  const cancelPromise = new Promise((resolve) => {\n",
              "    cancel.onclick = () => {\n",
              "      resolve(null);\n",
              "    };\n",
              "  });\n",
              "\n",
              "  // Wait for the user to pick the files.\n",
              "  const files = yield {\n",
              "    promise: Promise.race([pickedPromise, cancelPromise]),\n",
              "    response: {\n",
              "      action: 'starting',\n",
              "    }\n",
              "  };\n",
              "\n",
              "  cancel.remove();\n",
              "\n",
              "  // Disable the input element since further picks are not allowed.\n",
              "  inputElement.disabled = true;\n",
              "\n",
              "  if (!files) {\n",
              "    return {\n",
              "      response: {\n",
              "        action: 'complete',\n",
              "      }\n",
              "    };\n",
              "  }\n",
              "\n",
              "  for (const file of files) {\n",
              "    const li = document.createElement('li');\n",
              "    li.append(span(file.name, {fontWeight: 'bold'}));\n",
              "    li.append(span(\n",
              "        `(${file.type || 'n/a'}) - ${file.size} bytes, ` +\n",
              "        `last modified: ${\n",
              "            file.lastModifiedDate ? file.lastModifiedDate.toLocaleDateString() :\n",
              "                                    'n/a'} - `));\n",
              "    const percent = span('0% done');\n",
              "    li.appendChild(percent);\n",
              "\n",
              "    outputElement.appendChild(li);\n",
              "\n",
              "    const fileDataPromise = new Promise((resolve) => {\n",
              "      const reader = new FileReader();\n",
              "      reader.onload = (e) => {\n",
              "        resolve(e.target.result);\n",
              "      };\n",
              "      reader.readAsArrayBuffer(file);\n",
              "    });\n",
              "    // Wait for the data to be ready.\n",
              "    let fileData = yield {\n",
              "      promise: fileDataPromise,\n",
              "      response: {\n",
              "        action: 'continue',\n",
              "      }\n",
              "    };\n",
              "\n",
              "    // Use a chunked sending to avoid message size limits. See b/62115660.\n",
              "    let position = 0;\n",
              "    do {\n",
              "      const length = Math.min(fileData.byteLength - position, MAX_PAYLOAD_SIZE);\n",
              "      const chunk = new Uint8Array(fileData, position, length);\n",
              "      position += length;\n",
              "\n",
              "      const base64 = btoa(String.fromCharCode.apply(null, chunk));\n",
              "      yield {\n",
              "        response: {\n",
              "          action: 'append',\n",
              "          file: file.name,\n",
              "          data: base64,\n",
              "        },\n",
              "      };\n",
              "\n",
              "      let percentDone = fileData.byteLength === 0 ?\n",
              "          100 :\n",
              "          Math.round((position / fileData.byteLength) * 100);\n",
              "      percent.textContent = `${percentDone}% done`;\n",
              "\n",
              "    } while (position < fileData.byteLength);\n",
              "  }\n",
              "\n",
              "  // All done.\n",
              "  yield {\n",
              "    response: {\n",
              "      action: 'complete',\n",
              "    }\n",
              "  };\n",
              "}\n",
              "\n",
              "scope.google = scope.google || {};\n",
              "scope.google.colab = scope.google.colab || {};\n",
              "scope.google.colab._files = {\n",
              "  _uploadFiles,\n",
              "  _uploadFilesContinue,\n",
              "};\n",
              "})(self);\n",
              "</script> "
            ]
          },
          "metadata": {}
        },
        {
          "output_type": "stream",
          "name": "stdout",
          "text": [
            "Saving work.xlsx to work (2).xlsx\n"
          ]
        }
      ]
    },
    {
      "cell_type": "code",
      "source": [
        "lines=pd.read_excel(\"work.xlsx\")\n",
        "lines = lines[:256]\n",
        "lines.head()"
      ],
      "metadata": {
        "colab": {
          "base_uri": "https://localhost:8080/",
          "height": 206
        },
        "id": "l7EnOzcNnRnb",
        "outputId": "bb098c78-d468-4942-c29c-3ce4745911fe"
      },
      "execution_count": null,
      "outputs": [
        {
          "output_type": "execute_result",
          "data": {
            "text/plain": [
              "                                   cg_sentance                                                              hindi_sentance\n",
              "0  नहाय के बाद सरीर ल बने अंगोछना चाही          नहाने के बाद शरीर को अच्छे से पोंछना चाहिए                                \n",
              "1  अंगरा के सेके रोटी ल अंगाकर कथे              अंगर से सेके रोटी को चावल की मोती रोटी कहते हैं                           \n",
              "2  मोर दाई ह अँचरा म पइसा गठियाय हे             मेरी मां ने सिक्कों को अपने आँचल में बांध रखा है                          \n",
              "3  अंचावन ल अनदेखी करबे त खटिया ढिल्ला हो जाही  खाट की रस्सियों को कसने की रस्सी को नज़रअंदाज़ करेंगे तो खाट ढीली हो जाएगी\n",
              "4  दिन के अंजोर म रद्दा नइ भूला हूँ             दिन के उजाले में रास्ते से नहीं भटकूंगा                                   "
            ],
            "text/html": [
              "\n",
              "  <div id=\"df-66218997-7bce-4f60-87df-e906d5e384c7\" class=\"colab-df-container\">\n",
              "    <div>\n",
              "<style scoped>\n",
              "    .dataframe tbody tr th:only-of-type {\n",
              "        vertical-align: middle;\n",
              "    }\n",
              "\n",
              "    .dataframe tbody tr th {\n",
              "        vertical-align: top;\n",
              "    }\n",
              "\n",
              "    .dataframe thead th {\n",
              "        text-align: right;\n",
              "    }\n",
              "</style>\n",
              "<table border=\"1\" class=\"dataframe\">\n",
              "  <thead>\n",
              "    <tr style=\"text-align: right;\">\n",
              "      <th></th>\n",
              "      <th>cg_sentance</th>\n",
              "      <th>hindi_sentance</th>\n",
              "    </tr>\n",
              "  </thead>\n",
              "  <tbody>\n",
              "    <tr>\n",
              "      <th>0</th>\n",
              "      <td>नहाय के बाद सरीर ल बने अंगोछना चाही</td>\n",
              "      <td>नहाने के बाद शरीर को अच्छे से पोंछना चाहिए</td>\n",
              "    </tr>\n",
              "    <tr>\n",
              "      <th>1</th>\n",
              "      <td>अंगरा के सेके रोटी ल अंगाकर कथे</td>\n",
              "      <td>अंगर से सेके रोटी को चावल की मोती रोटी कहते हैं</td>\n",
              "    </tr>\n",
              "    <tr>\n",
              "      <th>2</th>\n",
              "      <td>मोर दाई ह अँचरा म पइसा गठियाय हे</td>\n",
              "      <td>मेरी मां ने सिक्कों को अपने आँचल में बांध रखा है</td>\n",
              "    </tr>\n",
              "    <tr>\n",
              "      <th>3</th>\n",
              "      <td>अंचावन ल अनदेखी करबे त खटिया ढिल्ला हो जाही</td>\n",
              "      <td>खाट की रस्सियों को कसने की रस्सी को नज़रअंदाज़ करेंगे तो खाट ढीली हो जाएगी</td>\n",
              "    </tr>\n",
              "    <tr>\n",
              "      <th>4</th>\n",
              "      <td>दिन के अंजोर म रद्दा नइ भूला हूँ</td>\n",
              "      <td>दिन के उजाले में रास्ते से नहीं भटकूंगा</td>\n",
              "    </tr>\n",
              "  </tbody>\n",
              "</table>\n",
              "</div>\n",
              "    <div class=\"colab-df-buttons\">\n",
              "\n",
              "  <div class=\"colab-df-container\">\n",
              "    <button class=\"colab-df-convert\" onclick=\"convertToInteractive('df-66218997-7bce-4f60-87df-e906d5e384c7')\"\n",
              "            title=\"Convert this dataframe to an interactive table.\"\n",
              "            style=\"display:none;\">\n",
              "\n",
              "  <svg xmlns=\"http://www.w3.org/2000/svg\" height=\"24px\" viewBox=\"0 -960 960 960\">\n",
              "    <path d=\"M120-120v-720h720v720H120Zm60-500h600v-160H180v160Zm220 220h160v-160H400v160Zm0 220h160v-160H400v160ZM180-400h160v-160H180v160Zm440 0h160v-160H620v160ZM180-180h160v-160H180v160Zm440 0h160v-160H620v160Z\"/>\n",
              "  </svg>\n",
              "    </button>\n",
              "\n",
              "  <style>\n",
              "    .colab-df-container {\n",
              "      display:flex;\n",
              "      gap: 12px;\n",
              "    }\n",
              "\n",
              "    .colab-df-convert {\n",
              "      background-color: #E8F0FE;\n",
              "      border: none;\n",
              "      border-radius: 50%;\n",
              "      cursor: pointer;\n",
              "      display: none;\n",
              "      fill: #1967D2;\n",
              "      height: 32px;\n",
              "      padding: 0 0 0 0;\n",
              "      width: 32px;\n",
              "    }\n",
              "\n",
              "    .colab-df-convert:hover {\n",
              "      background-color: #E2EBFA;\n",
              "      box-shadow: 0px 1px 2px rgba(60, 64, 67, 0.3), 0px 1px 3px 1px rgba(60, 64, 67, 0.15);\n",
              "      fill: #174EA6;\n",
              "    }\n",
              "\n",
              "    .colab-df-buttons div {\n",
              "      margin-bottom: 4px;\n",
              "    }\n",
              "\n",
              "    [theme=dark] .colab-df-convert {\n",
              "      background-color: #3B4455;\n",
              "      fill: #D2E3FC;\n",
              "    }\n",
              "\n",
              "    [theme=dark] .colab-df-convert:hover {\n",
              "      background-color: #434B5C;\n",
              "      box-shadow: 0px 1px 3px 1px rgba(0, 0, 0, 0.15);\n",
              "      filter: drop-shadow(0px 1px 2px rgba(0, 0, 0, 0.3));\n",
              "      fill: #FFFFFF;\n",
              "    }\n",
              "  </style>\n",
              "\n",
              "    <script>\n",
              "      const buttonEl =\n",
              "        document.querySelector('#df-66218997-7bce-4f60-87df-e906d5e384c7 button.colab-df-convert');\n",
              "      buttonEl.style.display =\n",
              "        google.colab.kernel.accessAllowed ? 'block' : 'none';\n",
              "\n",
              "      async function convertToInteractive(key) {\n",
              "        const element = document.querySelector('#df-66218997-7bce-4f60-87df-e906d5e384c7');\n",
              "        const dataTable =\n",
              "          await google.colab.kernel.invokeFunction('convertToInteractive',\n",
              "                                                    [key], {});\n",
              "        if (!dataTable) return;\n",
              "\n",
              "        const docLinkHtml = 'Like what you see? Visit the ' +\n",
              "          '<a target=\"_blank\" href=https://colab.research.google.com/notebooks/data_table.ipynb>data table notebook</a>'\n",
              "          + ' to learn more about interactive tables.';\n",
              "        element.innerHTML = '';\n",
              "        dataTable['output_type'] = 'display_data';\n",
              "        await google.colab.output.renderOutput(dataTable, element);\n",
              "        const docLink = document.createElement('div');\n",
              "        docLink.innerHTML = docLinkHtml;\n",
              "        element.appendChild(docLink);\n",
              "      }\n",
              "    </script>\n",
              "  </div>\n",
              "\n",
              "\n",
              "<div id=\"df-9fc91c52-455f-4f07-9048-5df607db8159\">\n",
              "  <button class=\"colab-df-quickchart\" onclick=\"quickchart('df-9fc91c52-455f-4f07-9048-5df607db8159')\"\n",
              "            title=\"Suggest charts\"\n",
              "            style=\"display:none;\">\n",
              "\n",
              "<svg xmlns=\"http://www.w3.org/2000/svg\" height=\"24px\"viewBox=\"0 0 24 24\"\n",
              "     width=\"24px\">\n",
              "    <g>\n",
              "        <path d=\"M19 3H5c-1.1 0-2 .9-2 2v14c0 1.1.9 2 2 2h14c1.1 0 2-.9 2-2V5c0-1.1-.9-2-2-2zM9 17H7v-7h2v7zm4 0h-2V7h2v10zm4 0h-2v-4h2v4z\"/>\n",
              "    </g>\n",
              "</svg>\n",
              "  </button>\n",
              "\n",
              "<style>\n",
              "  .colab-df-quickchart {\n",
              "      --bg-color: #E8F0FE;\n",
              "      --fill-color: #1967D2;\n",
              "      --hover-bg-color: #E2EBFA;\n",
              "      --hover-fill-color: #174EA6;\n",
              "      --disabled-fill-color: #AAA;\n",
              "      --disabled-bg-color: #DDD;\n",
              "  }\n",
              "\n",
              "  [theme=dark] .colab-df-quickchart {\n",
              "      --bg-color: #3B4455;\n",
              "      --fill-color: #D2E3FC;\n",
              "      --hover-bg-color: #434B5C;\n",
              "      --hover-fill-color: #FFFFFF;\n",
              "      --disabled-bg-color: #3B4455;\n",
              "      --disabled-fill-color: #666;\n",
              "  }\n",
              "\n",
              "  .colab-df-quickchart {\n",
              "    background-color: var(--bg-color);\n",
              "    border: none;\n",
              "    border-radius: 50%;\n",
              "    cursor: pointer;\n",
              "    display: none;\n",
              "    fill: var(--fill-color);\n",
              "    height: 32px;\n",
              "    padding: 0;\n",
              "    width: 32px;\n",
              "  }\n",
              "\n",
              "  .colab-df-quickchart:hover {\n",
              "    background-color: var(--hover-bg-color);\n",
              "    box-shadow: 0 1px 2px rgba(60, 64, 67, 0.3), 0 1px 3px 1px rgba(60, 64, 67, 0.15);\n",
              "    fill: var(--button-hover-fill-color);\n",
              "  }\n",
              "\n",
              "  .colab-df-quickchart-complete:disabled,\n",
              "  .colab-df-quickchart-complete:disabled:hover {\n",
              "    background-color: var(--disabled-bg-color);\n",
              "    fill: var(--disabled-fill-color);\n",
              "    box-shadow: none;\n",
              "  }\n",
              "\n",
              "  .colab-df-spinner {\n",
              "    border: 2px solid var(--fill-color);\n",
              "    border-color: transparent;\n",
              "    border-bottom-color: var(--fill-color);\n",
              "    animation:\n",
              "      spin 1s steps(1) infinite;\n",
              "  }\n",
              "\n",
              "  @keyframes spin {\n",
              "    0% {\n",
              "      border-color: transparent;\n",
              "      border-bottom-color: var(--fill-color);\n",
              "      border-left-color: var(--fill-color);\n",
              "    }\n",
              "    20% {\n",
              "      border-color: transparent;\n",
              "      border-left-color: var(--fill-color);\n",
              "      border-top-color: var(--fill-color);\n",
              "    }\n",
              "    30% {\n",
              "      border-color: transparent;\n",
              "      border-left-color: var(--fill-color);\n",
              "      border-top-color: var(--fill-color);\n",
              "      border-right-color: var(--fill-color);\n",
              "    }\n",
              "    40% {\n",
              "      border-color: transparent;\n",
              "      border-right-color: var(--fill-color);\n",
              "      border-top-color: var(--fill-color);\n",
              "    }\n",
              "    60% {\n",
              "      border-color: transparent;\n",
              "      border-right-color: var(--fill-color);\n",
              "    }\n",
              "    80% {\n",
              "      border-color: transparent;\n",
              "      border-right-color: var(--fill-color);\n",
              "      border-bottom-color: var(--fill-color);\n",
              "    }\n",
              "    90% {\n",
              "      border-color: transparent;\n",
              "      border-bottom-color: var(--fill-color);\n",
              "    }\n",
              "  }\n",
              "</style>\n",
              "\n",
              "  <script>\n",
              "    async function quickchart(key) {\n",
              "      const quickchartButtonEl =\n",
              "        document.querySelector('#' + key + ' button');\n",
              "      quickchartButtonEl.disabled = true;  // To prevent multiple clicks.\n",
              "      quickchartButtonEl.classList.add('colab-df-spinner');\n",
              "      try {\n",
              "        const charts = await google.colab.kernel.invokeFunction(\n",
              "            'suggestCharts', [key], {});\n",
              "      } catch (error) {\n",
              "        console.error('Error during call to suggestCharts:', error);\n",
              "      }\n",
              "      quickchartButtonEl.classList.remove('colab-df-spinner');\n",
              "      quickchartButtonEl.classList.add('colab-df-quickchart-complete');\n",
              "    }\n",
              "    (() => {\n",
              "      let quickchartButtonEl =\n",
              "        document.querySelector('#df-9fc91c52-455f-4f07-9048-5df607db8159 button');\n",
              "      quickchartButtonEl.style.display =\n",
              "        google.colab.kernel.accessAllowed ? 'block' : 'none';\n",
              "    })();\n",
              "  </script>\n",
              "</div>\n",
              "\n",
              "    </div>\n",
              "  </div>\n"
            ],
            "application/vnd.google.colaboratory.intrinsic+json": {
              "type": "dataframe",
              "variable_name": "lines",
              "summary": "{\n  \"name\": \"lines\",\n  \"rows\": 256,\n  \"fields\": [\n    {\n      \"column\": \"cg_sentance\",\n      \"properties\": {\n        \"dtype\": \"string\",\n        \"num_unique_values\": 255,\n        \"samples\": [\n          \"\\u091f\\u0947\\u0939\\u0930\\u094d\\u0930\\u093e \\u0905\\u090a \\u0939\\u0930\\u093f\\u0932 \\u0915\\u0947 \\u090f\\u0915\\u0947 \\u0930\\u0902\\u0917 \\u0939\\u094b\\u0925\\u0947\",\n          \"\\u0939\\u092e\\u0928 \\u0932 \\u0905\\u0902\\u091c\\u094b\\u0930\\u0940 \\u0930\\u093e\\u0924 \\u092e \\u091a\\u0932\\u0947 \\u092e \\u092e\\u091c\\u093e \\u0906\\u0907\\u0938\",\n          \"\\u0905\\u0927\\u0947\\u0921\\u093c \\u092e\\u0928 \\u0918\\u0932\\u094b \\u092a\\u095d \\u0932\\u093f\\u0916 \\u0938\\u0915\\u0925\\u0947\\u0902 \"\n        ],\n        \"semantic_type\": \"\",\n        \"description\": \"\"\n      }\n    },\n    {\n      \"column\": \"hindi_sentance\",\n      \"properties\": {\n        \"dtype\": \"string\",\n        \"num_unique_values\": 254,\n        \"samples\": [\n          \"\\u0907\\u0938 \\u0938\\u093e\\u0932 \\u0905\\u091a\\u094d\\u091b\\u0940 \\u092b\\u0938\\u0932 \\u0939\\u0941\\u0908 \\u0924\\u094b \\u0938\\u0941\\u0927\\u0942 \\u0928\\u0947 \\u0905\\u092a\\u0928\\u0940 \\u092a\\u0924\\u094d\\u0928\\u0940 \\u0915\\u0947 \\u0932\\u093f\\u090f \\u091a\\u093e\\u0902\\u0926\\u0940 \\u0915\\u093e \\u0915\\u0921\\u093c\\u093e \\u0916\\u0930\\u0940\\u0926\\u093e \",\n          \"\\u0939\\u092e\\u0947\\u0902 \\u091a\\u093e\\u0902\\u0926\\u0928\\u0940 \\u0930\\u093e\\u0924 \\u092e\\u0947\\u0902 \\u0918\\u0942\\u092e\\u0928\\u0947 \\u092e\\u0947\\u0902 \\u092e\\u091c\\u093c\\u093e \\u0906\\u092f\\u093e\",\n          \"\\u0905\\u0927\\u0947\\u0921\\u093c \\u0932\\u094b\\u0917 \\u092d\\u0940 \\u092a\\u0922\\u093c \\u0932\\u093f\\u0916 \\u0938\\u0915\\u0924\\u0947 \\u0939\\u0948\\u0902\"\n        ],\n        \"semantic_type\": \"\",\n        \"description\": \"\"\n      }\n    }\n  ]\n}"
            }
          },
          "metadata": {},
          "execution_count": 4
        }
      ]
    },
    {
      "cell_type": "markdown",
      "source": [
        "**Preprocessing steps**"
      ],
      "metadata": {
        "id": "w4Usc4Q5Zu2s"
      }
    },
    {
      "cell_type": "code",
      "source": [
        "# Lowercase all characters\n",
        "lines['hindi_sentance']=lines['hindi_sentance'].apply(lambda x: str(x))\n",
        "lines['cg_sentance']=lines['cg_sentance'].apply(lambda x: str(x))\n",
        "lines['hindi_sentance']=lines['hindi_sentance'].apply(lambda x: x.lower())\n",
        "lines['cg_sentance']=lines['cg_sentance'].apply(lambda x: x.lower())"
      ],
      "metadata": {
        "id": "w-CHXcjbnRvp"
      },
      "execution_count": null,
      "outputs": []
    },
    {
      "cell_type": "code",
      "source": [
        "# Remove quotes\n",
        "lines['hindi_sentance']=lines['hindi_sentance'].apply(lambda x: re.sub(\"'\", '', x))\n",
        "lines['cg_sentance']=lines['cg_sentance'].apply(lambda x: re.sub(\"'\", '', x))"
      ],
      "metadata": {
        "id": "Una27oJ3nRze"
      },
      "execution_count": null,
      "outputs": []
    },
    {
      "cell_type": "code",
      "source": [
        "exclude = set(string.punctuation) # Set of all special characters\n",
        "# Remove all the special characters\n",
        "lines['hindi_sentance']=lines['hindi_sentance'].apply(lambda x: ''.join(ch for ch in x if ch not in exclude))\n",
        "lines['cg_sentance']=lines['cg_sentance'].apply(lambda x: ''.join(ch for ch in x if ch not in exclude))"
      ],
      "metadata": {
        "id": "ToXtW07-nR22"
      },
      "execution_count": null,
      "outputs": []
    },
    {
      "cell_type": "code",
      "source": [
        "# Remove all numbers from text\n",
        "remove_digits = str.maketrans('', '', digits)\n",
        "lines['hindi_sentance']=lines['hindi_sentance'].apply(lambda x: x.translate(remove_digits))\n",
        "lines['cg_sentance']=lines['cg_sentance'].apply(lambda x: x.translate(remove_digits))\n",
        "\n",
        "lines['cg_sentance'] = lines['cg_sentance'].apply(lambda x: re.sub(\"[२३०८१५७९४६]\", \"\", x))\n",
        "\n",
        "# Remove extra spaces\n",
        "lines['hindi_sentance']=lines['hindi_sentance'].apply(lambda x: x.strip())\n",
        "lines['cg_sentance']=lines['cg_sentance'].apply(lambda x: x.strip())\n",
        "lines['hindi_sentance']=lines['hindi_sentance'].apply(lambda x: re.sub(\" +\", \" \", x))\n",
        "lines['cg_sentance']=lines['cg_sentance'].apply(lambda x: re.sub(\" +\", \" \", x))"
      ],
      "metadata": {
        "id": "wxq0GjGpnR6G"
      },
      "execution_count": null,
      "outputs": []
    },
    {
      "cell_type": "code",
      "source": [
        "# Add start and end tokens to target sequences\n",
        "lines['cg_sentance'] = lines['cg_sentance'].apply(lambda x : 'START_ '+ x + ' _END')"
      ],
      "metadata": {
        "id": "0yWhSIqdnR9a"
      },
      "execution_count": null,
      "outputs": []
    },
    {
      "cell_type": "code",
      "source": [
        "### Get Hindi and CG Vocabulary\n",
        "all_hindi_words=set()\n",
        "for hindi in lines['hindi_sentance']:\n",
        "    for word in hindi.split():\n",
        "        if word not in all_hindi_words:\n",
        "            all_hindi_words.add(word)\n",
        "\n",
        "all_cg_words=set()\n",
        "for cg in lines['cg_sentance']:\n",
        "    for word in cg.split():\n",
        "        if word not in all_cg_words:\n",
        "            all_cg_words.add(word)"
      ],
      "metadata": {
        "id": "jKA5yzovnSEj"
      },
      "execution_count": null,
      "outputs": []
    },
    {
      "cell_type": "code",
      "source": [
        "lines['length_hindi_sentance']=lines['hindi_sentance'].apply(lambda x:len(x.split(\" \")))\n",
        "lines['length_cg_sentance']=lines['cg_sentance'].apply(lambda x:len(x.split(\" \")))"
      ],
      "metadata": {
        "id": "IYocP2bunSIE"
      },
      "execution_count": null,
      "outputs": []
    },
    {
      "cell_type": "code",
      "source": [
        "lines.head()\n",
        "lines[lines['length_hindi_sentance']>30].shape"
      ],
      "metadata": {
        "colab": {
          "base_uri": "https://localhost:8080/"
        },
        "id": "E_Oz5_FdnSLd",
        "outputId": "1e8f756c-5dcc-45ac-d60d-9918d0754b48"
      },
      "execution_count": null,
      "outputs": [
        {
          "output_type": "execute_result",
          "data": {
            "text/plain": [
              "(0, 4)"
            ]
          },
          "metadata": {},
          "execution_count": 12
        }
      ]
    },
    {
      "cell_type": "code",
      "source": [
        "lines=lines[lines['length_hindi_sentance']<=20]\n",
        "lines=lines[lines['length_cg_sentance']<=20]"
      ],
      "metadata": {
        "id": "nct3RZ2XnSO1"
      },
      "execution_count": null,
      "outputs": []
    },
    {
      "cell_type": "code",
      "source": [
        "print(\"maximum length of CG Sentence \",max(lines['length_cg_sentance']))\n",
        "print(\"maximum length of HINDI Sentence \",max(lines['length_hindi_sentance']))"
      ],
      "metadata": {
        "colab": {
          "base_uri": "https://localhost:8080/"
        },
        "id": "MtkBGkFPnSSX",
        "outputId": "d2cdfc7f-fa39-4c6e-e522-27f818eb17c8"
      },
      "execution_count": null,
      "outputs": [
        {
          "output_type": "stream",
          "name": "stdout",
          "text": [
            "maximum length of CG Sentence  16\n",
            "maximum length of HINDI Sentence  16\n"
          ]
        }
      ]
    },
    {
      "cell_type": "code",
      "source": [
        "max_length_src=max(lines['length_cg_sentance'])\n",
        "max_length_tar=max(lines['length_hindi_sentance'])"
      ],
      "metadata": {
        "id": "-_o4bXt2nSV4"
      },
      "execution_count": null,
      "outputs": []
    },
    {
      "cell_type": "markdown",
      "source": [
        "**Generate tokens for hindi words and  CG words**"
      ],
      "metadata": {
        "id": "-lQET5N1Z6u4"
      }
    },
    {
      "cell_type": "code",
      "source": [
        "input_words = sorted(list(all_hindi_words))\n",
        "target_words = sorted(list(all_cg_words))\n",
        "num_encoder_tokens = len(all_hindi_words)\n",
        "num_encoder_tokens = num_encoder_tokens +1\n",
        "num_decoder_tokens = len(all_cg_words)\n",
        "num_encoder_tokens, num_decoder_tokens"
      ],
      "metadata": {
        "colab": {
          "base_uri": "https://localhost:8080/"
        },
        "id": "578-jU7DnSZf",
        "outputId": "94ccefcd-7591-4cb1-e2bb-9125df54f939"
      },
      "execution_count": null,
      "outputs": [
        {
          "output_type": "execute_result",
          "data": {
            "text/plain": [
              "(750, 793)"
            ]
          },
          "metadata": {},
          "execution_count": 16
        }
      ]
    },
    {
      "cell_type": "code",
      "source": [
        "num_decoder_tokens += 1"
      ],
      "metadata": {
        "id": "EAI9TTBBnSc7"
      },
      "execution_count": null,
      "outputs": []
    },
    {
      "cell_type": "code",
      "source": [
        "input_token_index = dict([(word, i+1) for i, word in enumerate(input_words)])\n",
        "target_token_index = dict([(word, i+1) for i, word in enumerate(target_words)])"
      ],
      "metadata": {
        "id": "tELQz_C1nShC"
      },
      "execution_count": null,
      "outputs": []
    },
    {
      "cell_type": "code",
      "source": [
        "reverse_input_char_index = dict((i, word) for word, i in input_token_index.items())\n",
        "reverse_target_char_index = dict((i, word) for word, i in target_token_index.items())"
      ],
      "metadata": {
        "id": "bk-xd5ACnSkf"
      },
      "execution_count": null,
      "outputs": []
    },
    {
      "cell_type": "code",
      "source": [
        "lines.head(10)"
      ],
      "metadata": {
        "colab": {
          "base_uri": "https://localhost:8080/",
          "height": 380
        },
        "id": "qL6NNaL0nSoI",
        "outputId": "ba174782-7166-4adc-e415-5f3ed3e5d408"
      },
      "execution_count": null,
      "outputs": [
        {
          "output_type": "execute_result",
          "data": {
            "text/plain": [
              "                                               cg_sentance                                                              hindi_sentance  length_hindi_sentance  length_cg_sentance\n",
              "0  START_ नहाय के बाद सरीर ल बने अंगोछना चाही _END          नहाने के बाद शरीर को अच्छे से पोंछना चाहिए                                  9                      10                \n",
              "1  START_ अंगरा के सेके रोटी ल अंगाकर कथे _END              अंगर से सेके रोटी को चावल की मोती रोटी कहते हैं                             11                     9                 \n",
              "2  START_ मोर दाई ह अँचरा म पइसा गठियाय हे _END             मेरी मां ने सिक्कों को अपने आँचल में बांध रखा है                            11                     10                \n",
              "3  START_ अंचावन ल अनदेखी करबे त खटिया ढिल्ला हो जाही _END  खाट की रस्सियों को कसने की रस्सी को नज़रअंदाज़ करेंगे तो खाट ढीली हो जाएगी  15                     11                \n",
              "4  START_ दिन के अंजोर म रद्दा नइ भूला हूँ _END             दिन के उजाले में रास्ते से नहीं भटकूंगा                                     8                      10                \n",
              "5  START_ बने अंजोर म पढ़ना लिखना चाही _END                 उचित प्रकाश में पढ़ना लिखना करना चाहिए                                      7                      8                 \n",
              "6  START_ हमन ल अंजोरी रात म चले म मजा आइस _END             हमें चांदनी रात में घूमने में मज़ा आया                                      8                      11                \n",
              "7  START_ अण्डी तेल ह मालिस बर अच्छा होथे _END              अरंडी का तेल मालिश के लिए अच्छा होता है                                     9                      9                 \n",
              "8  START_ अर्जुन ह पांडव मन म अंतरमंझिला रिहिस _END         पांडवों में अर्जुन पाँच भाइयों में तीसरे थे                                 8                      9                 \n",
              "9  START_ गणित म अंताजी नइ चलय _END                         गणित में अनुमान नही चलता                                                    5                      7                 "
            ],
            "text/html": [
              "\n",
              "  <div id=\"df-7172659b-1005-450c-b5f7-8326b1be9b2c\" class=\"colab-df-container\">\n",
              "    <div>\n",
              "<style scoped>\n",
              "    .dataframe tbody tr th:only-of-type {\n",
              "        vertical-align: middle;\n",
              "    }\n",
              "\n",
              "    .dataframe tbody tr th {\n",
              "        vertical-align: top;\n",
              "    }\n",
              "\n",
              "    .dataframe thead th {\n",
              "        text-align: right;\n",
              "    }\n",
              "</style>\n",
              "<table border=\"1\" class=\"dataframe\">\n",
              "  <thead>\n",
              "    <tr style=\"text-align: right;\">\n",
              "      <th></th>\n",
              "      <th>cg_sentance</th>\n",
              "      <th>hindi_sentance</th>\n",
              "      <th>length_hindi_sentance</th>\n",
              "      <th>length_cg_sentance</th>\n",
              "    </tr>\n",
              "  </thead>\n",
              "  <tbody>\n",
              "    <tr>\n",
              "      <th>0</th>\n",
              "      <td>START_ नहाय के बाद सरीर ल बने अंगोछना चाही _END</td>\n",
              "      <td>नहाने के बाद शरीर को अच्छे से पोंछना चाहिए</td>\n",
              "      <td>9</td>\n",
              "      <td>10</td>\n",
              "    </tr>\n",
              "    <tr>\n",
              "      <th>1</th>\n",
              "      <td>START_ अंगरा के सेके रोटी ल अंगाकर कथे _END</td>\n",
              "      <td>अंगर से सेके रोटी को चावल की मोती रोटी कहते हैं</td>\n",
              "      <td>11</td>\n",
              "      <td>9</td>\n",
              "    </tr>\n",
              "    <tr>\n",
              "      <th>2</th>\n",
              "      <td>START_ मोर दाई ह अँचरा म पइसा गठियाय हे _END</td>\n",
              "      <td>मेरी मां ने सिक्कों को अपने आँचल में बांध रखा है</td>\n",
              "      <td>11</td>\n",
              "      <td>10</td>\n",
              "    </tr>\n",
              "    <tr>\n",
              "      <th>3</th>\n",
              "      <td>START_ अंचावन ल अनदेखी करबे त खटिया ढिल्ला हो जाही _END</td>\n",
              "      <td>खाट की रस्सियों को कसने की रस्सी को नज़रअंदाज़ करेंगे तो खाट ढीली हो जाएगी</td>\n",
              "      <td>15</td>\n",
              "      <td>11</td>\n",
              "    </tr>\n",
              "    <tr>\n",
              "      <th>4</th>\n",
              "      <td>START_ दिन के अंजोर म रद्दा नइ भूला हूँ _END</td>\n",
              "      <td>दिन के उजाले में रास्ते से नहीं भटकूंगा</td>\n",
              "      <td>8</td>\n",
              "      <td>10</td>\n",
              "    </tr>\n",
              "    <tr>\n",
              "      <th>5</th>\n",
              "      <td>START_ बने अंजोर म पढ़ना लिखना चाही _END</td>\n",
              "      <td>उचित प्रकाश में पढ़ना लिखना करना चाहिए</td>\n",
              "      <td>7</td>\n",
              "      <td>8</td>\n",
              "    </tr>\n",
              "    <tr>\n",
              "      <th>6</th>\n",
              "      <td>START_ हमन ल अंजोरी रात म चले म मजा आइस _END</td>\n",
              "      <td>हमें चांदनी रात में घूमने में मज़ा आया</td>\n",
              "      <td>8</td>\n",
              "      <td>11</td>\n",
              "    </tr>\n",
              "    <tr>\n",
              "      <th>7</th>\n",
              "      <td>START_ अण्डी तेल ह मालिस बर अच्छा होथे _END</td>\n",
              "      <td>अरंडी का तेल मालिश के लिए अच्छा होता है</td>\n",
              "      <td>9</td>\n",
              "      <td>9</td>\n",
              "    </tr>\n",
              "    <tr>\n",
              "      <th>8</th>\n",
              "      <td>START_ अर्जुन ह पांडव मन म अंतरमंझिला रिहिस _END</td>\n",
              "      <td>पांडवों में अर्जुन पाँच भाइयों में तीसरे थे</td>\n",
              "      <td>8</td>\n",
              "      <td>9</td>\n",
              "    </tr>\n",
              "    <tr>\n",
              "      <th>9</th>\n",
              "      <td>START_ गणित म अंताजी नइ चलय _END</td>\n",
              "      <td>गणित में अनुमान नही चलता</td>\n",
              "      <td>5</td>\n",
              "      <td>7</td>\n",
              "    </tr>\n",
              "  </tbody>\n",
              "</table>\n",
              "</div>\n",
              "    <div class=\"colab-df-buttons\">\n",
              "\n",
              "  <div class=\"colab-df-container\">\n",
              "    <button class=\"colab-df-convert\" onclick=\"convertToInteractive('df-7172659b-1005-450c-b5f7-8326b1be9b2c')\"\n",
              "            title=\"Convert this dataframe to an interactive table.\"\n",
              "            style=\"display:none;\">\n",
              "\n",
              "  <svg xmlns=\"http://www.w3.org/2000/svg\" height=\"24px\" viewBox=\"0 -960 960 960\">\n",
              "    <path d=\"M120-120v-720h720v720H120Zm60-500h600v-160H180v160Zm220 220h160v-160H400v160Zm0 220h160v-160H400v160ZM180-400h160v-160H180v160Zm440 0h160v-160H620v160ZM180-180h160v-160H180v160Zm440 0h160v-160H620v160Z\"/>\n",
              "  </svg>\n",
              "    </button>\n",
              "\n",
              "  <style>\n",
              "    .colab-df-container {\n",
              "      display:flex;\n",
              "      gap: 12px;\n",
              "    }\n",
              "\n",
              "    .colab-df-convert {\n",
              "      background-color: #E8F0FE;\n",
              "      border: none;\n",
              "      border-radius: 50%;\n",
              "      cursor: pointer;\n",
              "      display: none;\n",
              "      fill: #1967D2;\n",
              "      height: 32px;\n",
              "      padding: 0 0 0 0;\n",
              "      width: 32px;\n",
              "    }\n",
              "\n",
              "    .colab-df-convert:hover {\n",
              "      background-color: #E2EBFA;\n",
              "      box-shadow: 0px 1px 2px rgba(60, 64, 67, 0.3), 0px 1px 3px 1px rgba(60, 64, 67, 0.15);\n",
              "      fill: #174EA6;\n",
              "    }\n",
              "\n",
              "    .colab-df-buttons div {\n",
              "      margin-bottom: 4px;\n",
              "    }\n",
              "\n",
              "    [theme=dark] .colab-df-convert {\n",
              "      background-color: #3B4455;\n",
              "      fill: #D2E3FC;\n",
              "    }\n",
              "\n",
              "    [theme=dark] .colab-df-convert:hover {\n",
              "      background-color: #434B5C;\n",
              "      box-shadow: 0px 1px 3px 1px rgba(0, 0, 0, 0.15);\n",
              "      filter: drop-shadow(0px 1px 2px rgba(0, 0, 0, 0.3));\n",
              "      fill: #FFFFFF;\n",
              "    }\n",
              "  </style>\n",
              "\n",
              "    <script>\n",
              "      const buttonEl =\n",
              "        document.querySelector('#df-7172659b-1005-450c-b5f7-8326b1be9b2c button.colab-df-convert');\n",
              "      buttonEl.style.display =\n",
              "        google.colab.kernel.accessAllowed ? 'block' : 'none';\n",
              "\n",
              "      async function convertToInteractive(key) {\n",
              "        const element = document.querySelector('#df-7172659b-1005-450c-b5f7-8326b1be9b2c');\n",
              "        const dataTable =\n",
              "          await google.colab.kernel.invokeFunction('convertToInteractive',\n",
              "                                                    [key], {});\n",
              "        if (!dataTable) return;\n",
              "\n",
              "        const docLinkHtml = 'Like what you see? Visit the ' +\n",
              "          '<a target=\"_blank\" href=https://colab.research.google.com/notebooks/data_table.ipynb>data table notebook</a>'\n",
              "          + ' to learn more about interactive tables.';\n",
              "        element.innerHTML = '';\n",
              "        dataTable['output_type'] = 'display_data';\n",
              "        await google.colab.output.renderOutput(dataTable, element);\n",
              "        const docLink = document.createElement('div');\n",
              "        docLink.innerHTML = docLinkHtml;\n",
              "        element.appendChild(docLink);\n",
              "      }\n",
              "    </script>\n",
              "  </div>\n",
              "\n",
              "\n",
              "<div id=\"df-52b1d4d7-5f87-49b3-8567-43dffbd099ee\">\n",
              "  <button class=\"colab-df-quickchart\" onclick=\"quickchart('df-52b1d4d7-5f87-49b3-8567-43dffbd099ee')\"\n",
              "            title=\"Suggest charts\"\n",
              "            style=\"display:none;\">\n",
              "\n",
              "<svg xmlns=\"http://www.w3.org/2000/svg\" height=\"24px\"viewBox=\"0 0 24 24\"\n",
              "     width=\"24px\">\n",
              "    <g>\n",
              "        <path d=\"M19 3H5c-1.1 0-2 .9-2 2v14c0 1.1.9 2 2 2h14c1.1 0 2-.9 2-2V5c0-1.1-.9-2-2-2zM9 17H7v-7h2v7zm4 0h-2V7h2v10zm4 0h-2v-4h2v4z\"/>\n",
              "    </g>\n",
              "</svg>\n",
              "  </button>\n",
              "\n",
              "<style>\n",
              "  .colab-df-quickchart {\n",
              "      --bg-color: #E8F0FE;\n",
              "      --fill-color: #1967D2;\n",
              "      --hover-bg-color: #E2EBFA;\n",
              "      --hover-fill-color: #174EA6;\n",
              "      --disabled-fill-color: #AAA;\n",
              "      --disabled-bg-color: #DDD;\n",
              "  }\n",
              "\n",
              "  [theme=dark] .colab-df-quickchart {\n",
              "      --bg-color: #3B4455;\n",
              "      --fill-color: #D2E3FC;\n",
              "      --hover-bg-color: #434B5C;\n",
              "      --hover-fill-color: #FFFFFF;\n",
              "      --disabled-bg-color: #3B4455;\n",
              "      --disabled-fill-color: #666;\n",
              "  }\n",
              "\n",
              "  .colab-df-quickchart {\n",
              "    background-color: var(--bg-color);\n",
              "    border: none;\n",
              "    border-radius: 50%;\n",
              "    cursor: pointer;\n",
              "    display: none;\n",
              "    fill: var(--fill-color);\n",
              "    height: 32px;\n",
              "    padding: 0;\n",
              "    width: 32px;\n",
              "  }\n",
              "\n",
              "  .colab-df-quickchart:hover {\n",
              "    background-color: var(--hover-bg-color);\n",
              "    box-shadow: 0 1px 2px rgba(60, 64, 67, 0.3), 0 1px 3px 1px rgba(60, 64, 67, 0.15);\n",
              "    fill: var(--button-hover-fill-color);\n",
              "  }\n",
              "\n",
              "  .colab-df-quickchart-complete:disabled,\n",
              "  .colab-df-quickchart-complete:disabled:hover {\n",
              "    background-color: var(--disabled-bg-color);\n",
              "    fill: var(--disabled-fill-color);\n",
              "    box-shadow: none;\n",
              "  }\n",
              "\n",
              "  .colab-df-spinner {\n",
              "    border: 2px solid var(--fill-color);\n",
              "    border-color: transparent;\n",
              "    border-bottom-color: var(--fill-color);\n",
              "    animation:\n",
              "      spin 1s steps(1) infinite;\n",
              "  }\n",
              "\n",
              "  @keyframes spin {\n",
              "    0% {\n",
              "      border-color: transparent;\n",
              "      border-bottom-color: var(--fill-color);\n",
              "      border-left-color: var(--fill-color);\n",
              "    }\n",
              "    20% {\n",
              "      border-color: transparent;\n",
              "      border-left-color: var(--fill-color);\n",
              "      border-top-color: var(--fill-color);\n",
              "    }\n",
              "    30% {\n",
              "      border-color: transparent;\n",
              "      border-left-color: var(--fill-color);\n",
              "      border-top-color: var(--fill-color);\n",
              "      border-right-color: var(--fill-color);\n",
              "    }\n",
              "    40% {\n",
              "      border-color: transparent;\n",
              "      border-right-color: var(--fill-color);\n",
              "      border-top-color: var(--fill-color);\n",
              "    }\n",
              "    60% {\n",
              "      border-color: transparent;\n",
              "      border-right-color: var(--fill-color);\n",
              "    }\n",
              "    80% {\n",
              "      border-color: transparent;\n",
              "      border-right-color: var(--fill-color);\n",
              "      border-bottom-color: var(--fill-color);\n",
              "    }\n",
              "    90% {\n",
              "      border-color: transparent;\n",
              "      border-bottom-color: var(--fill-color);\n",
              "    }\n",
              "  }\n",
              "</style>\n",
              "\n",
              "  <script>\n",
              "    async function quickchart(key) {\n",
              "      const quickchartButtonEl =\n",
              "        document.querySelector('#' + key + ' button');\n",
              "      quickchartButtonEl.disabled = true;  // To prevent multiple clicks.\n",
              "      quickchartButtonEl.classList.add('colab-df-spinner');\n",
              "      try {\n",
              "        const charts = await google.colab.kernel.invokeFunction(\n",
              "            'suggestCharts', [key], {});\n",
              "      } catch (error) {\n",
              "        console.error('Error during call to suggestCharts:', error);\n",
              "      }\n",
              "      quickchartButtonEl.classList.remove('colab-df-spinner');\n",
              "      quickchartButtonEl.classList.add('colab-df-quickchart-complete');\n",
              "    }\n",
              "    (() => {\n",
              "      let quickchartButtonEl =\n",
              "        document.querySelector('#df-52b1d4d7-5f87-49b3-8567-43dffbd099ee button');\n",
              "      quickchartButtonEl.style.display =\n",
              "        google.colab.kernel.accessAllowed ? 'block' : 'none';\n",
              "    })();\n",
              "  </script>\n",
              "</div>\n",
              "\n",
              "    </div>\n",
              "  </div>\n"
            ],
            "application/vnd.google.colaboratory.intrinsic+json": {
              "type": "dataframe",
              "variable_name": "lines",
              "summary": "{\n  \"name\": \"lines\",\n  \"rows\": 256,\n  \"fields\": [\n    {\n      \"column\": \"cg_sentance\",\n      \"properties\": {\n        \"dtype\": \"string\",\n        \"num_unique_values\": 255,\n        \"samples\": [\n          \"START_ \\u091f\\u0947\\u0939\\u0930\\u094d\\u0930\\u093e \\u0905\\u090a \\u0939\\u0930\\u093f\\u0932 \\u0915\\u0947 \\u090f\\u0915\\u0947 \\u0930\\u0902\\u0917 \\u0939\\u094b\\u0925\\u0947 _END\",\n          \"START_ \\u0939\\u092e\\u0928 \\u0932 \\u0905\\u0902\\u091c\\u094b\\u0930\\u0940 \\u0930\\u093e\\u0924 \\u092e \\u091a\\u0932\\u0947 \\u092e \\u092e\\u091c\\u093e \\u0906\\u0907\\u0938 _END\",\n          \"START_ \\u0905\\u0927\\u0947\\u0921\\u093c \\u092e\\u0928 \\u0918\\u0932\\u094b \\u092a\\u095d \\u0932\\u093f\\u0916 \\u0938\\u0915\\u0925\\u0947\\u0902 _END\"\n        ],\n        \"semantic_type\": \"\",\n        \"description\": \"\"\n      }\n    },\n    {\n      \"column\": \"hindi_sentance\",\n      \"properties\": {\n        \"dtype\": \"string\",\n        \"num_unique_values\": 254,\n        \"samples\": [\n          \"\\u0907\\u0938 \\u0938\\u093e\\u0932 \\u0905\\u091a\\u094d\\u091b\\u0940 \\u092b\\u0938\\u0932 \\u0939\\u0941\\u0908 \\u0924\\u094b \\u0938\\u0941\\u0927\\u0942 \\u0928\\u0947 \\u0905\\u092a\\u0928\\u0940 \\u092a\\u0924\\u094d\\u0928\\u0940 \\u0915\\u0947 \\u0932\\u093f\\u090f \\u091a\\u093e\\u0902\\u0926\\u0940 \\u0915\\u093e \\u0915\\u0921\\u093c\\u093e \\u0916\\u0930\\u0940\\u0926\\u093e\",\n          \"\\u0939\\u092e\\u0947\\u0902 \\u091a\\u093e\\u0902\\u0926\\u0928\\u0940 \\u0930\\u093e\\u0924 \\u092e\\u0947\\u0902 \\u0918\\u0942\\u092e\\u0928\\u0947 \\u092e\\u0947\\u0902 \\u092e\\u091c\\u093c\\u093e \\u0906\\u092f\\u093e\",\n          \"\\u0905\\u0927\\u0947\\u0921\\u093c \\u0932\\u094b\\u0917 \\u092d\\u0940 \\u092a\\u0922\\u093c \\u0932\\u093f\\u0916 \\u0938\\u0915\\u0924\\u0947 \\u0939\\u0948\\u0902\"\n        ],\n        \"semantic_type\": \"\",\n        \"description\": \"\"\n      }\n    },\n    {\n      \"column\": \"length_hindi_sentance\",\n      \"properties\": {\n        \"dtype\": \"number\",\n        \"std\": 2,\n        \"min\": 2,\n        \"max\": 16,\n        \"num_unique_values\": 14,\n        \"samples\": [\n          10,\n          4,\n          9\n        ],\n        \"semantic_type\": \"\",\n        \"description\": \"\"\n      }\n    },\n    {\n      \"column\": \"length_cg_sentance\",\n      \"properties\": {\n        \"dtype\": \"number\",\n        \"std\": 2,\n        \"min\": 4,\n        \"max\": 16,\n        \"num_unique_values\": 13,\n        \"samples\": [\n          16,\n          14,\n          10\n        ],\n        \"semantic_type\": \"\",\n        \"description\": \"\"\n      }\n    }\n  ]\n}"
            }
          },
          "metadata": {},
          "execution_count": 20
        }
      ]
    },
    {
      "cell_type": "markdown",
      "source": [
        "**Create train & test model **"
      ],
      "metadata": {
        "id": "A7yvE-znaM-5"
      }
    },
    {
      "cell_type": "code",
      "source": [
        "from sklearn.model_selection import train_test_split\n",
        "X, y = lines['hindi_sentance'], lines['cg_sentance']\n",
        "X_train, X_test, y_train, y_test = train_test_split(X, y, test_size = 0.2,random_state=42)\n",
        "X_train.shape, X_test.shape"
      ],
      "metadata": {
        "colab": {
          "base_uri": "https://localhost:8080/"
        },
        "id": "uNSVkzAXnSry",
        "outputId": "2f56ba70-0dd4-47de-ccb7-12ff438534fd"
      },
      "execution_count": null,
      "outputs": [
        {
          "output_type": "execute_result",
          "data": {
            "text/plain": [
              "((204,), (52,))"
            ]
          },
          "metadata": {},
          "execution_count": 21
        }
      ]
    },
    {
      "cell_type": "code",
      "source": [
        "X_train"
      ],
      "metadata": {
        "colab": {
          "base_uri": "https://localhost:8080/"
        },
        "id": "zJiMeObGnSvX",
        "outputId": "9d4cc3b7-1345-4d9c-a3e4-3c3b915da37d"
      },
      "execution_count": null,
      "outputs": [
        {
          "output_type": "execute_result",
          "data": {
            "text/plain": [
              "143    तुमने लिखा                                                                \n",
              "84     हरिया का घर यहीं से सीधा है कहीं और मत जाना                               \n",
              "55     मुसीबत में काम आये वही मित्र है                                           \n",
              "220    अलवा जलवा हलवा भी स्वादिष्ठ लगता है                                       \n",
              "104    मेरे छोटे बेटे का हाथ पंखे के बटन तक नहीं पहुँचता                         \n",
              "139    वे दो घंटे से रामायण पढ़ रहे हैं                                          \n",
              "127    तुम खा रहे हो                                                             \n",
              "60     जिद्दी लड़का किसी की नहीं सुनता                                           \n",
              "101    यह किताब उस बहन तक पहुँचा देना                                            \n",
              "172    सीता पढ़ेगी                                                               \n",
              "245    फूल मुरझा गया है                                                          \n",
              "126    हम खा रहे हैं                                                             \n",
              "225    जो गाली देगा उसे भी एक मुक्का जोर से मार देना चाहिए                       \n",
              "144    सीता ने लिखा                                                              \n",
              "108    बहुत सारे सब्जी भाजी और लताएँ बिना बोए उग जाते हैं                        \n",
              "178    रात में कोटवार चिल्लाते और पहरा देते हैं                                  \n",
              "73     कटहल का अचार बनाना जानते हैं                                              \n",
              "114    पता नहीं मेरा बेटा कहां फंसा है                                           \n",
              "158    मैं पढ़ चुका रहूँगा                                                       \n",
              "69     शरारती बच्चे परीक्षा के दिन रोते हैं                                      \n",
              "141    हमने लिखा                                                                 \n",
              "109    छोटे रास्ते से जाएंगे तो जल्द ही पहुंच जाएंगे                             \n",
              "115    बहुत रात हो गई अभी तक घर नहीं आया है                                      \n",
              "246    मजदूर आज दिन रहते चले गए                                                  \n",
              "113    रमेसर कितनो से उलझ जाता है                                                \n",
              "243    सीधे जाओ                                                                  \n",
              "90     कहीं भी देर से जाना ठीक बात नहीं होता                                     \n",
              "29     अकरी की दाल सेहत के लिए अच्छी नहीं होती है                                \n",
              "170    हम पढ़ेंगे                                                                \n",
              "82     दोस्त अधिकारी बनने पर अजनबी जैसे मिलाता है                                \n",
              "111    आवेदन यहां नवंबर तक पहुंच जाना चाहिए                                      \n",
              "5      उचित प्रकाश में पढ़ना लिखना करना चाहिए                                    \n",
              "56     अटर्रा नींबू से बड़ा होता है                                              \n",
              "132    तुम खा चुके हो                                                            \n",
              "154    हम पढते रहेंगे                                                            \n",
              "162    वे पढ़ चुके रहेंगे                                                        \n",
              "65     इतना सा प्रसाद सबके लिए नहीं होगा                                         \n",
              "186    हार के बाद सेना पीछे हट गई                                                \n",
              "85     वह अनपढ़ है लेकिन वह समझदारी से बात करता है                               \n",
              "219    दादा के पैर को धीरे धीरे दबाना चाहिए                                      \n",
              "237    सेब सेहत के लिए अच्छे होते हैं                                            \n",
              "31     एकल बैल के लिए जोड़ी खोजने की जरूरत है                                    \n",
              "12     चावल पकाने के लिए पानी डालें                                              \n",
              "35     एक भविष्यवक्ता ने मुझसे कहा कि मैं किसी दिन नेता बनूंगा                   \n",
              "28     पहली बारिश के बाद खेत की जुताई से सभी खरपतवार सूख गए                      \n",
              "42     ट्रेन के इंतजार में थक गया                                                \n",
              "112    मेरी गेंद पेड़ की टहनी में फंस गई है                                      \n",
              "22     पिता अपने बेटे के लिए खिलौना और मिठाई लाए                                 \n",
              "125    मैं खा रहा हूँ                                                            \n",
              "93     बहुत देर हो चुकी है लड़का अभी तक नहीं उठा है                              \n",
              "173    वे पढ़ेंगे                                                                \n",
              "251    गाय के गले में सोहाई बंधा है                                              \n",
              "51     आज रात गांव में नाचा होगा                                                 \n",
              "240    बच्चे को सोखना सोखा दो                                                    \n",
              "95     छाछ नहीं है तो सूखे आम का चूर्ण डाल कर सब्जी पका लेना                     \n",
              "146    हम लिख रहे थे                                                             \n",
              "204    सरपंच को डर नहीं है निरंकुश गाँव चला रहा है                               \n",
              "76     मेरा काम अधर में लटक गया है                                               \n",
              "41     किसान धान की बिजाई के लिए बारिश का इंतजार करता                            \n",
              "119    ज्यादा आराम करने से आलस आता है                                            \n",
              "155    तुम पढ़ते रहोगे                                                           \n",
              "78     बटाईदार अब हमारी खेती में काम कर रहे हैं                                  \n",
              "150    वे लिख रहे थे                                                             \n",
              "26     रजाई से सिर को न डाक घुटन महसूस होगा                                      \n",
              "247    पर काम में कामचोर                                                         \n",
              "168    दिवाली के दिन राउत महिलाएं अपने मालिक के घर की दीवार पर हंथा छापती हैं    \n",
              "118    अलसी का तेल घावों के लिए बहुत काम आता है                                  \n",
              "193    कुदाली चलाने के कारण रामलाल के हाथ में गठान पड़ गया                       \n",
              "140    मैंने लिखा                                                                \n",
              "0      नहाने के बाद शरीर को अच्छे से पोंछना चाहिए                                \n",
              "2      मेरी मां ने सिक्कों को अपने आँचल में बांध रखा है                          \n",
              "77     हमारा देश आधी रात को स्वतंत्र हुआ                                         \n",
              "46     मनुष्य चाँद पर पहुँच गया है                                               \n",
              "100    हम कल बजे रायपुर पहुंचेंगे                                                \n",
              "205    कमाने वाला पतला हो रहा है                                                 \n",
              "159    हम पढ़ चुके रहेंगे                                                        \n",
              "183    शाम तक हम रायपुर पहुंच जाएंगे                                             \n",
              "254    आज बाजार से दो सूप खरीदा                                                  \n",
              "98     पहले हमारे गाँव में आम का बड़ा बाग था                                     \n",
              "36     कार्तिक मास में हम आकाश के दीपक                                           \n",
              "61     वह अपनी माँ के यहाँ गई है                                                 \n",
              "200    कोठी से धान निकालते निकालते नानी गिर गई                                   \n",
              "142    तुमने लिखा                                                                \n",
              "11     कैसे मिलेगा                                                               \n",
              "250    जल्दी करो                                                                 \n",
              "224    हकलाने वाला भी एक दिन ठीक हो जाता है                                      \n",
              "27     पहली बारिश होते ही मैंने खेत की जुताई कर दी                               \n",
              "231    देख कर नहीं चलोगे तो ठोकर खा जाओगे                                        \n",
              "4      दिन के उजाले में रास्ते से नहीं भटकूंगा                                   \n",
              "122    तुम खाते हो                                                               \n",
              "32     घर में अकेले रहने पर मुझे डर नहीं लगता                                    \n",
              "147    मैं लिख रहा था                                                            \n",
              "182    बारिश में घर की छत एकाएक गिर गई                                           \n",
              "138    आप एक घंटे से खड़े हैं                                                    \n",
              "62     आठ दिन बिना नहीं आएंगे                                                    \n",
              "135    तीन घंटे से बारिश हो रही है                                               \n",
              "128    सीता खा रही है                                                            \n",
              "232    जंगल में अकेला पाकर भेड़िया काट देता है                                   \n",
              "194    हर्रा बहेड़ा और आंवला मिलाने से पाचक चूर्ण जाता है                        \n",
              "70     रात के समय उल्लू का चिल्लाना बहुत डरावना लगता है                          \n",
              "197    नहीं तो बस छूट जाएगी                                                      \n",
              "64     नहीं खा पाएंगे                                                            \n",
              "44     समोसा खा खा कर तृप्त हो गए हैं                                            \n",
              "165    मैं आठ घंटे से पढ़ रहा हूँगा                                              \n",
              "156    सीता पढ़ती रहेगी                                                          \n",
              "40     कछुआ ने खरगोश को पछाड़ दिया                                               \n",
              "123    वे खाते हैं                                                               \n",
              "153    मैं पढ़ता रहूँगा                                                          \n",
              "23     इतने पैसे में काम नहीं चलेगा                                              \n",
              "192    इस साल अच्छी फसल हुई तो सुधू ने अपनी पत्नी के लिए चांदी का कड़ा खरीदा     \n",
              "249    और लगेगा                                                                  \n",
              "81     अजनबी अलग से पहचाना में आ जाता है                                         \n",
              "39     दादाजी हर छोटीछोटी बातों में उग्र हो जाते हैं                             \n",
              "244    जल्दी पहुंचोगे                                                            \n",
              "47     फिर भी यह आश्चर्य नहीं है                                                 \n",
              "94     फालतू की बात मत करो                                                       \n",
              "195    विवाह में दूल्हा दुल्हन के शरीर पर हल्दी लगाया जाता है                    \n",
              "161    सीता पढ़ चुकी रहेगी                                                       \n",
              "43     ज्यादा खाना ठीक नहीं है                                                   \n",
              "145    उन्होंने लिखा                                                             \n",
              "175    कपिल ने अपने बच्चों को उनके हिस्सा बाँटा दे दिए                           \n",
              "3      खाट की रस्सियों को कसने की रस्सी को नज़रअंदाज़ करेंगे तो खाट ढीली हो जाएगी\n",
              "105    सत्य वचन अमृत के समान होते हैं                                            \n",
              "53     कोई दवा कारगर नहीं है                                                     \n",
              "133    सीता खा चुकी है                                                           \n",
              "233    हम मिल जुल कर छत्तीसगढ़ में रहते हैं                                      \n",
              "198    कोटवार ने बैठक के लिए गांव में जोर की आवाज लगाई                           \n",
              "238    हाथी की बड़ी सी सूंड होती है                                              \n",
              "49     खाना खाने के बाद हाथ को अच्छे से धोएं                                     \n",
              "163    तीन घंटे से बारिश हो रही होगी                                             \n",
              "80     छत्तीसगढ़ में अनाज को अन्ना कुंवारी माना जाता है                          \n",
              "34     उसे अपनी इस हरकत पर बुरा लगा                                              \n",
              "211    चिमटी से चुभे हुए कांटे को निकालते है                                     \n",
              "7      अरंडी का तेल मालिश के लिए अच्छा होता है                                   \n",
              "171    तुम पढ़ोगे                                                                \n",
              "216    लड़ाके से लड़ाइ करके लड़की पेंसिल की नोक में कोंच दी                      \n",
              "110    अरगनी में कपड़े को टांग दो                                                \n",
              "91     अभी गांव से आया हूं                                                       \n",
              "83     मेरा पड़ोसी बहुत ईर्ष्यालु व्यक्ति है                                     \n",
              "229    जर्मन के बर्तन हल्के होते हैं                                             \n",
              "234    हमारी खुद की ताकत हमारी काम आएगी                                          \n",
              "89     भांजी की शादी में बहुत ज्यादा पैसा लग गया                                 \n",
              "8      पांडवों में अर्जुन पाँच भाइयों में तीसरे थे                               \n",
              "13     अंधना तैयार है                                                            \n",
              "59     वह बारबार अंगड़ाई लेता है                                                 \n",
              "221    भुखखड़ लड़के का पेट दर्द करेगा ही                                         \n",
              "131    हम खा चुके हैं                                                            \n",
              "17     विटामिन ए की कमी से रतौंधी हो जाती है                                     \n",
              "166    आप एक घंटे से खड़े होंगे                                                  \n",
              "72     पेट दर्द होगा                                                             \n",
              "226    जोर से मुक्का खाएगा तो लड़का गाली देना छोड़ ही देगा                       \n",
              "134    वे खा चुके हैं                                                            \n",
              "209    पढ़ने वाले लड़कों को बराबरी का दुराग्रह नहीं करना चाहिए                   \n",
              "236    कमजोर बछड़े को कुत्ता भी काट देता है                                      \n",
              "63     बच्चे को इतना चावल मत देना                                                \n",
              "54     गणित में तीर तुक्का नहीं चलता                                             \n",
              "107    खट्टी करी की सब्जी बहुत ही स्वादिष्ट होती है                              \n",
              "50     हवाई जहाज देखते देखते गायब हो गया                                         \n",
              "212    खराब अक्षर को शिक्षक भी अवमूल्यन करते हैं                                 \n",
              "174    जो हार गया वह दूर जा सकता है                                              \n",
              "213    नाटक देखना है तो हल्ला मत करो                                             \n",
              "189    होनी को कोई नहीं टाल सकता                                                 \n",
              "252    कुरता को सुईधागे से सिल दो                                                \n",
              "207    किसान ने हाय हाय करके कमाया फिर भी पड़ गया अकाल                           \n",
              "227    जो कुत्ता काटने को दौड़े उसे पत्थर मार दे                                 \n",
              "169    मैं पढूँगा                                                                \n",
              "58     बाधा डालने वाले किसी कार्य को पूर्ण नहीं करने देते                        \n",
              "218    पहले वे खेतों में रहते थे                                                 \n",
              "48     बच्चे लोग जिराफ को देखकर हैरान रह गए                                      \n",
              "88     बूढ़ा बहुत जल्द मरने वाला है                                              \n",
              "21     मेरे पास भी इसी तरह का टेलीविजन है                                        \n",
              "57     भारी पत्थर को उत्तोलक से बाहर निकालें                                     \n",
              "203    खाने में रंग धंग नहीं है                                                  \n",
              "160    तुम पढ़ चुके रहोगे                                                         \n",
              "248    और नहीं खाएंगे                                                            \n",
              "187    कुश्ती में राकेश रोहित से हार गया                                         \n",
              "191    तोता मैगपाई एक ही रंग के होते हैं                                         \n",
              "129    वे खा रहे हैं                                                             \n",
              "37     मेरी जांघ पर फोड़ा हो गया है                                              \n",
              "157    वे पढ़ते रहेंगे                                                           \n",
              "241    यह प्रश्न साधारण है                                                       \n",
              "1      अंगर से सेके रोटी को चावल की मोती रोटी कहते हैं                           \n",
              "52     भगवान जाने ये कैसी बीमारी है                                              \n",
              "149    सीता ने लिखा                                                              \n",
              "130    मैं खा चुका हूँ                                                           \n",
              "151    हम लिख चुके थे                                                            \n",
              "103    मैं अपनी बहन को उसके ससुराल पहुँचाने गया था                               \n",
              "99     हमें पांच बजे तक पहुंचना है                                               \n",
              "116    आजकल पपीते की खेती की बहुत चलन है                                         \n",
              "87     वो मतलबी है अपने बारे में सोचता है                                        \n",
              "202    आवारा बैल खेत में जाके रुकते हैं                                          \n",
              "74     घर अस्तव्यस्त पड़ा है                                                     \n",
              "214    अब भेड़िए नहीं दिखते                                                      \n",
              "210    अपने हितौशी को कुत्ते भी जानते है                                         \n",
              "121    मैं खाता हूँ                                                              \n",
              "255    माँ रोटियाँ सेंक रही है                                                   \n",
              "20     धूप में फूल मुरझा जाता है                                                 \n",
              "188    पांडवों ने कौरव सेना को हराया दिया                                        \n",
              "71     इतना मत खाओ                                                               \n",
              "106    भजिया इमली की चटनी के साथ बहुत ही स्वादिष्ट लगती है                       \n",
              "14     चावल डालें                                                                \n",
              "92     अभी फिर से जाने के लिए कह रहे हैं                                         \n",
              "179    किसी को कभी बिना सोचे समझे नहीं कहना चाहिए दुख होता है                    \n",
              "102    आजकल बारो आमरस मिलता है                                                   \n",
              "Name: hindi_sentance, dtype: object"
            ]
          },
          "metadata": {},
          "execution_count": 22
        }
      ]
    },
    {
      "cell_type": "code",
      "source": [
        "len(X_test)"
      ],
      "metadata": {
        "colab": {
          "base_uri": "https://localhost:8080/"
        },
        "id": "Jy96GFsc140k",
        "outputId": "05e0988b-498f-4235-ecc3-66ec5a98049d"
      },
      "execution_count": null,
      "outputs": [
        {
          "output_type": "execute_result",
          "data": {
            "text/plain": [
              "52"
            ]
          },
          "metadata": {},
          "execution_count": 23
        }
      ]
    },
    {
      "cell_type": "markdown",
      "source": [
        "**Creation of LSTM model**\n",
        "\n",
        "Long short-term memory (LSTM) is a type of recurrent neural network (RNN) aimed at dealing with the vanishing gradient problem present in traditional RNNs.\n",
        "\n",
        "**Structure of LSTM**\n",
        "\n",
        "An LSTM (Long Short-Term Memory) network is a type of RNN recurrent neural network that is capable of handling and processing sequential data. The structure of an LSTM network consists of a series of LSTM cells, each of which has a set of gates (input, output, and forget gates) that control the flow of information into and out of the cell. The gates are used to selectively forget or retain information from the previous time steps, allowing the LSTM to maintain long-term dependencies in the input data.\n",
        "\n",
        "![LSTM_Recurrent_unit.avif](data:image/avif;base64,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)"
      ],
      "metadata": {
        "id": "hxH2VPcparJo"
      }
    },
    {
      "cell_type": "code",
      "source": [
        "def generate_batch(X = X_train, y = y_train, batch_size = 32):\n",
        "    ''' Generate a batch of data '''\n",
        "    while True:\n",
        "        for j in range(0, len(X), batch_size):\n",
        "            encoder_input_data = np.zeros((batch_size, max_length_src),dtype='float32')\n",
        "            decoder_input_data = np.zeros((batch_size, max_length_tar),dtype='float32')\n",
        "            decoder_target_data = np.zeros((batch_size, max_length_tar, num_decoder_tokens),dtype='float32')\n",
        "            for i, (input_text, target_text) in enumerate(zip(X[j:j+batch_size], y[j:j+batch_size])):\n",
        "                for t, word in enumerate(input_text.split()):\n",
        "                    encoder_input_data[i, t] = input_token_index[word] # encoder input seq\n",
        "                for t, word in enumerate(target_text.split()):\n",
        "                    if t<len(target_text.split())-1:\n",
        "                        decoder_input_data[i, t] = target_token_index[word] # decoder input seq\n",
        "                    if t>0:\n",
        "                        # decoder target sequence (one hot encoded)\n",
        "                        # does not include the START_ token\n",
        "                        # Offset by one timestep\n",
        "                        decoder_target_data[i, t - 1, target_token_index[word]] = 1.\n",
        "            yield([encoder_input_data, decoder_input_data], decoder_target_data)"
      ],
      "metadata": {
        "id": "S7LMs3stnSzG"
      },
      "execution_count": null,
      "outputs": []
    },
    {
      "cell_type": "code",
      "source": [
        "latent_dim = 200\n",
        "# Encoder\n",
        "encoder_inputs = Input(shape=(None,))\n",
        "enc_emb =  Embedding(num_encoder_tokens, latent_dim, mask_zero = True)(encoder_inputs)\n",
        "encoder_lstm = LSTM(latent_dim, return_state=True)\n",
        "encoder_outputs, state_h, state_c = encoder_lstm(enc_emb)\n",
        "# We discard `encoder_outputs` and only keep the states.\n",
        "encoder_states = [state_h, state_c]"
      ],
      "metadata": {
        "id": "EM6ysARHnS2v"
      },
      "execution_count": null,
      "outputs": []
    },
    {
      "cell_type": "code",
      "source": [
        "# Set up the decoder, using `encoder_states` as initial state.\n",
        "decoder_inputs = Input(shape=(None,))\n",
        "dec_emb_layer = Embedding(num_decoder_tokens, latent_dim, mask_zero = True)\n",
        "dec_emb = dec_emb_layer(decoder_inputs)\n",
        "# We set up our decoder to return full output sequences,\n",
        "# and to return internal states as well. We don't use the\n",
        "# return states in the training model, but we will use them in inference.\n",
        "decoder_lstm = LSTM(latent_dim, return_sequences=True, return_state=True)\n",
        "decoder_outputs, _, _ = decoder_lstm(dec_emb,\n",
        "                                     initial_state=encoder_states)\n",
        "decoder_dense = Dense(num_decoder_tokens, activation='softmax')\n",
        "decoder_outputs = decoder_dense(decoder_outputs)\n",
        "\n",
        "# Define the model that will turn\n",
        "# `encoder_input_data` & `decoder_input_data` into `decoder_target_data`\n",
        "model = Model([encoder_inputs, decoder_inputs], decoder_outputs)"
      ],
      "metadata": {
        "id": "hmUP5Tk7nS6Z"
      },
      "execution_count": null,
      "outputs": []
    },
    {
      "cell_type": "code",
      "source": [
        "model.compile(optimizer='adam', loss='categorical_crossentropy',metrics=['accuracy'])"
      ],
      "metadata": {
        "id": "TSMZUh8mnS99"
      },
      "execution_count": null,
      "outputs": []
    },
    {
      "cell_type": "code",
      "source": [
        "model.summary()\n",
        "train_samples = len(X_train)\n",
        "val_samples = len(X_test)\n",
        "batch_size = 32\n",
        "epochs = 100"
      ],
      "metadata": {
        "colab": {
          "base_uri": "https://localhost:8080/"
        },
        "id": "K4ioUowlnTBc",
        "outputId": "e7331a5d-6fff-4a23-bbf7-db4bbd2971e6"
      },
      "execution_count": null,
      "outputs": [
        {
          "output_type": "stream",
          "name": "stdout",
          "text": [
            "Model: \"model\"\n",
            "__________________________________________________________________________________________________\n",
            " Layer (type)                Output Shape                 Param #   Connected to                  \n",
            "==================================================================================================\n",
            " input_1 (InputLayer)        [(None, None)]               0         []                            \n",
            "                                                                                                  \n",
            " input_2 (InputLayer)        [(None, None)]               0         []                            \n",
            "                                                                                                  \n",
            " embedding (Embedding)       (None, None, 200)            150000    ['input_1[0][0]']             \n",
            "                                                                                                  \n",
            " embedding_1 (Embedding)     (None, None, 200)            158800    ['input_2[0][0]']             \n",
            "                                                                                                  \n",
            " lstm (LSTM)                 [(None, 200),                320800    ['embedding[0][0]']           \n",
            "                              (None, 200),                                                        \n",
            "                              (None, 200)]                                                        \n",
            "                                                                                                  \n",
            " lstm_1 (LSTM)               [(None, None, 200),          320800    ['embedding_1[0][0]',         \n",
            "                              (None, 200),                           'lstm[0][1]',                \n",
            "                              (None, 200)]                           'lstm[0][2]']                \n",
            "                                                                                                  \n",
            " dense (Dense)               (None, None, 794)            159594    ['lstm_1[0][0]']              \n",
            "                                                                                                  \n",
            "==================================================================================================\n",
            "Total params: 1109994 (4.23 MB)\n",
            "Trainable params: 1109994 (4.23 MB)\n",
            "Non-trainable params: 0 (0.00 Byte)\n",
            "__________________________________________________________________________________________________\n"
          ]
        }
      ]
    },
    {
      "cell_type": "code",
      "source": [
        "model.fit_generator(generator = generate_batch(X_train, y_train, batch_size = batch_size),\n",
        "                    steps_per_epoch = train_samples//batch_size,\n",
        "                    epochs=100,\n",
        "                    validation_data = generate_batch(X_test, y_test, batch_size = batch_size),\n",
        "                    validation_steps = val_samples//batch_size)"
      ],
      "metadata": {
        "colab": {
          "base_uri": "https://localhost:8080/"
        },
        "id": "waF-AxuonTE-",
        "outputId": "54a9b30f-34ca-42ee-8287-a4fa311c6b7d"
      },
      "execution_count": null,
      "outputs": [
        {
          "output_type": "stream",
          "name": "stdout",
          "text": [
            "Epoch 1/100\n"
          ]
        },
        {
          "output_type": "stream",
          "name": "stderr",
          "text": [
            "<ipython-input-29-49141b86a382>:1: UserWarning: `Model.fit_generator` is deprecated and will be removed in a future version. Please use `Model.fit`, which supports generators.\n",
            "  model.fit_generator(generator = generate_batch(X_train, y_train, batch_size = batch_size),\n"
          ]
        },
        {
          "output_type": "stream",
          "name": "stdout",
          "text": [
            "6/6 [==============================] - 18s 793ms/step - loss: 6.6691 - accuracy: 0.1077 - val_loss: 6.6537 - val_accuracy: 0.1322\n",
            "Epoch 2/100\n",
            "6/6 [==============================] - 1s 152ms/step - loss: 6.5951 - accuracy: 0.1469 - val_loss: 6.4471 - val_accuracy: 0.1258\n",
            "Epoch 3/100\n",
            "6/6 [==============================] - 1s 135ms/step - loss: 6.0915 - accuracy: 0.1468 - val_loss: 6.1048 - val_accuracy: 0.1322\n",
            "Epoch 4/100\n",
            "6/6 [==============================] - 1s 160ms/step - loss: 5.6325 - accuracy: 0.1455 - val_loss: 5.9756 - val_accuracy: 0.1258\n",
            "Epoch 5/100\n",
            "6/6 [==============================] - 1s 155ms/step - loss: 5.4924 - accuracy: 0.1490 - val_loss: 6.3560 - val_accuracy: 0.1405\n",
            "Epoch 6/100\n",
            "6/6 [==============================] - 1s 137ms/step - loss: 5.3963 - accuracy: 0.1568 - val_loss: 6.2399 - val_accuracy: 0.1384\n",
            "Epoch 7/100\n",
            "6/6 [==============================] - 1s 139ms/step - loss: 5.2777 - accuracy: 0.1559 - val_loss: 6.5957 - val_accuracy: 0.1488\n",
            "Epoch 8/100\n",
            "6/6 [==============================] - 1s 156ms/step - loss: 5.2833 - accuracy: 0.1630 - val_loss: 6.3231 - val_accuracy: 0.1572\n",
            "Epoch 9/100\n",
            "6/6 [==============================] - 1s 237ms/step - loss: 5.1478 - accuracy: 0.1674 - val_loss: 6.7250 - val_accuracy: 0.1529\n",
            "Epoch 10/100\n",
            "6/6 [==============================] - 1s 233ms/step - loss: 5.0661 - accuracy: 0.1706 - val_loss: 6.4650 - val_accuracy: 0.1635\n",
            "Epoch 11/100\n",
            "6/6 [==============================] - 1s 170ms/step - loss: 4.9952 - accuracy: 0.1692 - val_loss: 6.8348 - val_accuracy: 0.1570\n",
            "Epoch 12/100\n",
            "6/6 [==============================] - 1s 130ms/step - loss: 4.9457 - accuracy: 0.1688 - val_loss: 6.4807 - val_accuracy: 0.1635\n",
            "Epoch 13/100\n",
            "6/6 [==============================] - 1s 139ms/step - loss: 4.8848 - accuracy: 0.1757 - val_loss: 6.9161 - val_accuracy: 0.1694\n",
            "Epoch 14/100\n",
            "6/6 [==============================] - 1s 139ms/step - loss: 4.8002 - accuracy: 0.1797 - val_loss: 6.5202 - val_accuracy: 0.1635\n",
            "Epoch 15/100\n",
            "6/6 [==============================] - 1s 140ms/step - loss: 4.8566 - accuracy: 0.1789 - val_loss: 6.8276 - val_accuracy: 0.1612\n",
            "Epoch 16/100\n",
            "6/6 [==============================] - 1s 151ms/step - loss: 4.7123 - accuracy: 0.1853 - val_loss: 6.6270 - val_accuracy: 0.1635\n",
            "Epoch 17/100\n",
            "6/6 [==============================] - 1s 132ms/step - loss: 4.6529 - accuracy: 0.1860 - val_loss: 6.8286 - val_accuracy: 0.1653\n",
            "Epoch 18/100\n",
            "6/6 [==============================] - 1s 137ms/step - loss: 4.5986 - accuracy: 0.1895 - val_loss: 6.5886 - val_accuracy: 0.1698\n",
            "Epoch 19/100\n",
            "6/6 [==============================] - 1s 137ms/step - loss: 4.5193 - accuracy: 0.1921 - val_loss: 6.8549 - val_accuracy: 0.1653\n",
            "Epoch 20/100\n",
            "6/6 [==============================] - 1s 141ms/step - loss: 4.4630 - accuracy: 0.1962 - val_loss: 6.5534 - val_accuracy: 0.1698\n",
            "Epoch 21/100\n",
            "6/6 [==============================] - 1s 132ms/step - loss: 4.3613 - accuracy: 0.2025 - val_loss: 6.8634 - val_accuracy: 0.1653\n",
            "Epoch 22/100\n",
            "6/6 [==============================] - 1s 131ms/step - loss: 4.4251 - accuracy: 0.2009 - val_loss: 6.4977 - val_accuracy: 0.1698\n",
            "Epoch 23/100\n",
            "6/6 [==============================] - 1s 165ms/step - loss: 4.2565 - accuracy: 0.2007 - val_loss: 6.8780 - val_accuracy: 0.1777\n",
            "Epoch 24/100\n",
            "6/6 [==============================] - 1s 234ms/step - loss: 4.1688 - accuracy: 0.2048 - val_loss: 6.5145 - val_accuracy: 0.1698\n",
            "Epoch 25/100\n",
            "6/6 [==============================] - 1s 237ms/step - loss: 4.1230 - accuracy: 0.2030 - val_loss: 6.8208 - val_accuracy: 0.1694\n",
            "Epoch 26/100\n",
            "6/6 [==============================] - 1s 192ms/step - loss: 4.0546 - accuracy: 0.1998 - val_loss: 6.5077 - val_accuracy: 0.1698\n",
            "Epoch 27/100\n",
            "6/6 [==============================] - 1s 136ms/step - loss: 4.0049 - accuracy: 0.2082 - val_loss: 6.9305 - val_accuracy: 0.1612\n",
            "Epoch 28/100\n",
            "6/6 [==============================] - 1s 135ms/step - loss: 3.9212 - accuracy: 0.2127 - val_loss: 6.4972 - val_accuracy: 0.1698\n",
            "Epoch 29/100\n",
            "6/6 [==============================] - 1s 135ms/step - loss: 4.0189 - accuracy: 0.2153 - val_loss: 6.9106 - val_accuracy: 0.1777\n",
            "Epoch 30/100\n",
            "6/6 [==============================] - 1s 139ms/step - loss: 3.8263 - accuracy: 0.2229 - val_loss: 6.5036 - val_accuracy: 0.1698\n",
            "Epoch 31/100\n",
            "6/6 [==============================] - 1s 133ms/step - loss: 3.7321 - accuracy: 0.2270 - val_loss: 6.9855 - val_accuracy: 0.1777\n",
            "Epoch 32/100\n",
            "6/6 [==============================] - 1s 132ms/step - loss: 3.6960 - accuracy: 0.2318 - val_loss: 6.5320 - val_accuracy: 0.1635\n",
            "Epoch 33/100\n",
            "6/6 [==============================] - 1s 135ms/step - loss: 3.6217 - accuracy: 0.2360 - val_loss: 6.9066 - val_accuracy: 0.1983\n",
            "Epoch 34/100\n",
            "6/6 [==============================] - 1s 137ms/step - loss: 3.5652 - accuracy: 0.2442 - val_loss: 6.6309 - val_accuracy: 0.1698\n",
            "Epoch 35/100\n",
            "6/6 [==============================] - 1s 140ms/step - loss: 3.4663 - accuracy: 0.2492 - val_loss: 6.9251 - val_accuracy: 0.1983\n",
            "Epoch 36/100\n",
            "6/6 [==============================] - 1s 133ms/step - loss: 3.5758 - accuracy: 0.2479 - val_loss: 6.5660 - val_accuracy: 0.1824\n",
            "Epoch 37/100\n",
            "6/6 [==============================] - 1s 131ms/step - loss: 3.3636 - accuracy: 0.2724 - val_loss: 7.0741 - val_accuracy: 0.1983\n",
            "Epoch 38/100\n",
            "6/6 [==============================] - 1s 134ms/step - loss: 3.2882 - accuracy: 0.2730 - val_loss: 6.5636 - val_accuracy: 0.1824\n",
            "Epoch 39/100\n",
            "6/6 [==============================] - 1s 220ms/step - loss: 3.2403 - accuracy: 0.2851 - val_loss: 7.0737 - val_accuracy: 0.2025\n",
            "Epoch 40/100\n",
            "6/6 [==============================] - 1s 232ms/step - loss: 3.1469 - accuracy: 0.2989 - val_loss: 6.6862 - val_accuracy: 0.1824\n",
            "Epoch 41/100\n",
            "6/6 [==============================] - 1s 241ms/step - loss: 3.0963 - accuracy: 0.3093 - val_loss: 7.0719 - val_accuracy: 0.1983\n",
            "Epoch 42/100\n",
            "6/6 [==============================] - 1s 138ms/step - loss: 3.0075 - accuracy: 0.3424 - val_loss: 6.5632 - val_accuracy: 0.1824\n",
            "Epoch 43/100\n",
            "6/6 [==============================] - 1s 145ms/step - loss: 3.1641 - accuracy: 0.3275 - val_loss: 7.2604 - val_accuracy: 0.1736\n",
            "Epoch 44/100\n",
            "6/6 [==============================] - 1s 129ms/step - loss: 2.9267 - accuracy: 0.3664 - val_loss: 6.6530 - val_accuracy: 0.1824\n",
            "Epoch 45/100\n",
            "6/6 [==============================] - 1s 132ms/step - loss: 2.8128 - accuracy: 0.3763 - val_loss: 7.1427 - val_accuracy: 0.1860\n",
            "Epoch 46/100\n",
            "6/6 [==============================] - 1s 137ms/step - loss: 2.7323 - accuracy: 0.3968 - val_loss: 6.7264 - val_accuracy: 0.2013\n",
            "Epoch 47/100\n",
            "6/6 [==============================] - 1s 139ms/step - loss: 2.6328 - accuracy: 0.4152 - val_loss: 7.1470 - val_accuracy: 0.1901\n",
            "Epoch 48/100\n",
            "6/6 [==============================] - 1s 136ms/step - loss: 2.5729 - accuracy: 0.4387 - val_loss: 6.7607 - val_accuracy: 0.2013\n",
            "Epoch 49/100\n",
            "6/6 [==============================] - 1s 137ms/step - loss: 2.4769 - accuracy: 0.4703 - val_loss: 7.2055 - val_accuracy: 0.1901\n",
            "Epoch 50/100\n",
            "6/6 [==============================] - 1s 133ms/step - loss: 2.6051 - accuracy: 0.4443 - val_loss: 6.8078 - val_accuracy: 0.2013\n",
            "Epoch 51/100\n",
            "6/6 [==============================] - 1s 135ms/step - loss: 2.3467 - accuracy: 0.4927 - val_loss: 7.2188 - val_accuracy: 0.1860\n",
            "Epoch 52/100\n",
            "6/6 [==============================] - 1s 136ms/step - loss: 2.2674 - accuracy: 0.5128 - val_loss: 6.8578 - val_accuracy: 0.2013\n",
            "Epoch 53/100\n",
            "6/6 [==============================] - 1s 133ms/step - loss: 2.2120 - accuracy: 0.5220 - val_loss: 7.2610 - val_accuracy: 0.1777\n",
            "Epoch 54/100\n",
            "6/6 [==============================] - 1s 168ms/step - loss: 2.1340 - accuracy: 0.5469 - val_loss: 6.8600 - val_accuracy: 0.1950\n",
            "Epoch 55/100\n",
            "6/6 [==============================] - 1s 224ms/step - loss: 2.0937 - accuracy: 0.5613 - val_loss: 7.3566 - val_accuracy: 0.2025\n",
            "Epoch 56/100\n",
            "6/6 [==============================] - 1s 237ms/step - loss: 2.0288 - accuracy: 0.5873 - val_loss: 6.7996 - val_accuracy: 0.2013\n",
            "Epoch 57/100\n",
            "6/6 [==============================] - 1s 169ms/step - loss: 2.1611 - accuracy: 0.5572 - val_loss: 7.3325 - val_accuracy: 0.2066\n",
            "Epoch 58/100\n",
            "6/6 [==============================] - 1s 135ms/step - loss: 1.9149 - accuracy: 0.6413 - val_loss: 7.0105 - val_accuracy: 0.2013\n",
            "Epoch 59/100\n",
            "6/6 [==============================] - 1s 235ms/step - loss: 1.8738 - accuracy: 0.6263 - val_loss: 7.2707 - val_accuracy: 0.2025\n",
            "Epoch 60/100\n",
            "6/6 [==============================] - 1s 221ms/step - loss: 1.8047 - accuracy: 0.6607 - val_loss: 7.0325 - val_accuracy: 0.2013\n",
            "Epoch 61/100\n",
            "6/6 [==============================] - 1s 134ms/step - loss: 1.6877 - accuracy: 0.7063 - val_loss: 7.3162 - val_accuracy: 0.2149\n",
            "Epoch 62/100\n",
            "6/6 [==============================] - 1s 137ms/step - loss: 1.6157 - accuracy: 0.7421 - val_loss: 7.0233 - val_accuracy: 0.1950\n",
            "Epoch 63/100\n",
            "6/6 [==============================] - 1s 131ms/step - loss: 1.5449 - accuracy: 0.7619 - val_loss: 7.3852 - val_accuracy: 0.2231\n",
            "Epoch 64/100\n",
            "6/6 [==============================] - 1s 135ms/step - loss: 1.6376 - accuracy: 0.7695 - val_loss: 7.0466 - val_accuracy: 0.1950\n",
            "Epoch 65/100\n",
            "6/6 [==============================] - 1s 136ms/step - loss: 1.4271 - accuracy: 0.8096 - val_loss: 7.4340 - val_accuracy: 0.2231\n",
            "Epoch 66/100\n",
            "6/6 [==============================] - 1s 135ms/step - loss: 1.3633 - accuracy: 0.8208 - val_loss: 7.0750 - val_accuracy: 0.2013\n",
            "Epoch 67/100\n",
            "6/6 [==============================] - 1s 138ms/step - loss: 1.3147 - accuracy: 0.8316 - val_loss: 7.4823 - val_accuracy: 0.2231\n",
            "Epoch 68/100\n",
            "6/6 [==============================] - 1s 196ms/step - loss: 1.2260 - accuracy: 0.8639 - val_loss: 7.1069 - val_accuracy: 0.2013\n",
            "Epoch 69/100\n",
            "6/6 [==============================] - 1s 239ms/step - loss: 1.1867 - accuracy: 0.8749 - val_loss: 7.5209 - val_accuracy: 0.2190\n",
            "Epoch 70/100\n",
            "6/6 [==============================] - 1s 233ms/step - loss: 1.1406 - accuracy: 0.8831 - val_loss: 7.1426 - val_accuracy: 0.2013\n",
            "Epoch 71/100\n",
            "6/6 [==============================] - 1s 181ms/step - loss: 1.2091 - accuracy: 0.8916 - val_loss: 7.5538 - val_accuracy: 0.2190\n",
            "Epoch 72/100\n",
            "6/6 [==============================] - 1s 136ms/step - loss: 1.0479 - accuracy: 0.9052 - val_loss: 7.1770 - val_accuracy: 0.2075\n",
            "Epoch 73/100\n",
            "6/6 [==============================] - 1s 136ms/step - loss: 1.0010 - accuracy: 0.9164 - val_loss: 7.5904 - val_accuracy: 0.2273\n",
            "Epoch 74/100\n",
            "6/6 [==============================] - 1s 139ms/step - loss: 0.9650 - accuracy: 0.9247 - val_loss: 7.2018 - val_accuracy: 0.2075\n",
            "Epoch 75/100\n",
            "6/6 [==============================] - 1s 140ms/step - loss: 0.8915 - accuracy: 0.9397 - val_loss: 7.6404 - val_accuracy: 0.2355\n",
            "Epoch 76/100\n",
            "6/6 [==============================] - 1s 133ms/step - loss: 0.8646 - accuracy: 0.9434 - val_loss: 7.2154 - val_accuracy: 0.2075\n",
            "Epoch 77/100\n",
            "6/6 [==============================] - 1s 134ms/step - loss: 0.8369 - accuracy: 0.9508 - val_loss: 7.6992 - val_accuracy: 0.2314\n",
            "Epoch 78/100\n",
            "6/6 [==============================] - 1s 140ms/step - loss: 0.9012 - accuracy: 0.9538 - val_loss: 7.2655 - val_accuracy: 0.2075\n",
            "Epoch 79/100\n",
            "6/6 [==============================] - 1s 152ms/step - loss: 0.7767 - accuracy: 0.9616 - val_loss: 7.6892 - val_accuracy: 0.2397\n",
            "Epoch 80/100\n",
            "6/6 [==============================] - 1s 134ms/step - loss: 0.7426 - accuracy: 0.9616 - val_loss: 7.2909 - val_accuracy: 0.2138\n",
            "Epoch 81/100\n",
            "6/6 [==============================] - 1s 137ms/step - loss: 0.7098 - accuracy: 0.9695 - val_loss: 7.7124 - val_accuracy: 0.2314\n",
            "Epoch 82/100\n",
            "6/6 [==============================] - 1s 137ms/step - loss: 0.6461 - accuracy: 0.9724 - val_loss: 7.3109 - val_accuracy: 0.2075\n",
            "Epoch 83/100\n",
            "6/6 [==============================] - 1s 142ms/step - loss: 0.6172 - accuracy: 0.9769 - val_loss: 7.7390 - val_accuracy: 0.2355\n",
            "Epoch 84/100\n",
            "6/6 [==============================] - 1s 232ms/step - loss: 0.5981 - accuracy: 0.9805 - val_loss: 7.3524 - val_accuracy: 0.2075\n",
            "Epoch 85/100\n",
            "6/6 [==============================] - 1s 224ms/step - loss: 0.6258 - accuracy: 0.9818 - val_loss: 7.7669 - val_accuracy: 0.2355\n",
            "Epoch 86/100\n",
            "6/6 [==============================] - 1s 230ms/step - loss: 0.5427 - accuracy: 0.9812 - val_loss: 7.3790 - val_accuracy: 0.2075\n",
            "Epoch 87/100\n",
            "6/6 [==============================] - 1s 135ms/step - loss: 0.5197 - accuracy: 0.9872 - val_loss: 7.7945 - val_accuracy: 0.2355\n",
            "Epoch 88/100\n",
            "6/6 [==============================] - 1s 138ms/step - loss: 0.4980 - accuracy: 0.9848 - val_loss: 7.4093 - val_accuracy: 0.2075\n",
            "Epoch 89/100\n",
            "6/6 [==============================] - 1s 136ms/step - loss: 0.4539 - accuracy: 0.9897 - val_loss: 7.8158 - val_accuracy: 0.2355\n",
            "Epoch 90/100\n",
            "6/6 [==============================] - 1s 139ms/step - loss: 0.4374 - accuracy: 0.9914 - val_loss: 7.4453 - val_accuracy: 0.2075\n",
            "Epoch 91/100\n",
            "6/6 [==============================] - 1s 134ms/step - loss: 0.4270 - accuracy: 0.9907 - val_loss: 7.8329 - val_accuracy: 0.2355\n",
            "Epoch 92/100\n",
            "6/6 [==============================] - 1s 130ms/step - loss: 0.4485 - accuracy: 0.9932 - val_loss: 7.4679 - val_accuracy: 0.2075\n",
            "Epoch 93/100\n",
            "6/6 [==============================] - 1s 154ms/step - loss: 0.3918 - accuracy: 0.9932 - val_loss: 7.8507 - val_accuracy: 0.2355\n",
            "Epoch 94/100\n",
            "6/6 [==============================] - 1s 138ms/step - loss: 0.3777 - accuracy: 0.9966 - val_loss: 7.4958 - val_accuracy: 0.2075\n",
            "Epoch 95/100\n",
            "6/6 [==============================] - 1s 138ms/step - loss: 0.3630 - accuracy: 0.9949 - val_loss: 7.8771 - val_accuracy: 0.2314\n",
            "Epoch 96/100\n",
            "6/6 [==============================] - 1s 133ms/step - loss: 0.3304 - accuracy: 0.9966 - val_loss: 7.5176 - val_accuracy: 0.2075\n",
            "Epoch 97/100\n",
            "6/6 [==============================] - 1s 133ms/step - loss: 0.3199 - accuracy: 0.9966 - val_loss: 7.8978 - val_accuracy: 0.2355\n",
            "Epoch 98/100\n",
            "6/6 [==============================] - 1s 137ms/step - loss: 0.3142 - accuracy: 0.9966 - val_loss: 7.5348 - val_accuracy: 0.2075\n",
            "Epoch 99/100\n",
            "6/6 [==============================] - 1s 197ms/step - loss: 0.3295 - accuracy: 0.9962 - val_loss: 7.9150 - val_accuracy: 0.2314\n",
            "Epoch 100/100\n",
            "6/6 [==============================] - 1s 220ms/step - loss: 0.2901 - accuracy: 0.9966 - val_loss: 7.5551 - val_accuracy: 0.2075\n"
          ]
        },
        {
          "output_type": "execute_result",
          "data": {
            "text/plain": [
              "<keras.src.callbacks.History at 0x79de5336d090>"
            ]
          },
          "metadata": {},
          "execution_count": 29
        }
      ]
    },
    {
      "cell_type": "code",
      "source": [
        "model.save('hindi_to_cg.h5')"
      ],
      "metadata": {
        "id": "Bdixtpq2nTIu",
        "colab": {
          "base_uri": "https://localhost:8080/"
        },
        "outputId": "e8a59886-dbd4-43ca-8e1a-ad3a797bfa8a"
      },
      "execution_count": null,
      "outputs": [
        {
          "output_type": "stream",
          "name": "stderr",
          "text": [
            "/usr/local/lib/python3.10/dist-packages/keras/src/engine/training.py:3103: UserWarning: You are saving your model as an HDF5 file via `model.save()`. This file format is considered legacy. We recommend using instead the native Keras format, e.g. `model.save('my_model.keras')`.\n",
            "  saving_api.save_model(\n"
          ]
        }
      ]
    },
    {
      "cell_type": "code",
      "source": [
        "train_gen = generate_batch(X_train, y_train, batch_size = 1)\n",
        "k=-1"
      ],
      "metadata": {
        "id": "zoL71Pw-nTMZ"
      },
      "execution_count": null,
      "outputs": []
    },
    {
      "cell_type": "code",
      "source": [
        "# Encode the input sequence to get the \"thought vectors\"\n",
        "encoder_model = Model(encoder_inputs, encoder_states)\n",
        "\n",
        "# Decoder setup\n",
        "# Below tensors will hold the states of the previous time step\n",
        "decoder_state_input_h = Input(shape=(latent_dim,))\n",
        "decoder_state_input_c = Input(shape=(latent_dim,))\n",
        "decoder_states_inputs = [decoder_state_input_h, decoder_state_input_c]\n",
        "\n",
        "dec_emb2= dec_emb_layer(decoder_inputs) # Get the embeddings of the decoder sequence\n",
        "\n",
        "# To predict the next word in the sequence, set the initial states to the states from the previous time step\n",
        "decoder_outputs2, state_h2, state_c2 = decoder_lstm(dec_emb2, initial_state=decoder_states_inputs)\n",
        "decoder_states2 = [state_h2, state_c2]\n",
        "decoder_outputs2 = decoder_dense(decoder_outputs2) # A dense softmax layer to generate prob dist. over the target vocabulary\n",
        "\n",
        "# Final decoder model\n",
        "decoder_model = Model(\n",
        "    [decoder_inputs] + decoder_states_inputs,\n",
        "    [decoder_outputs2] + decoder_states2)"
      ],
      "metadata": {
        "id": "hsrh5RSonTQC"
      },
      "execution_count": null,
      "outputs": []
    },
    {
      "cell_type": "code",
      "source": [
        "def decode_sequence(input_seq):\n",
        "    # Encode the input as state vectors.\n",
        "    states_value = encoder_model.predict(input_seq)\n",
        "    # Generate empty target sequence of length 1.\n",
        "    target_seq = np.zeros((1,1))\n",
        "    # Populate the first character of target sequence with the start character.\n",
        "    target_seq[0, 0] = target_token_index['START_']\n",
        "\n",
        "    # Sampling loop for a batch of sequences\n",
        "    # (to simplify, here we assume a batch of size 1).\n",
        "    stop_condition = False\n",
        "    decoded_sentence = ''\n",
        "    while not stop_condition:\n",
        "        output_tokens, h, c = decoder_model.predict([target_seq] + states_value)\n",
        "\n",
        "        # Sample a token\n",
        "        sampled_token_index = np.argmax(output_tokens[0, -1, :])\n",
        "        sampled_char = reverse_target_char_index[sampled_token_index]\n",
        "        decoded_sentence += ' '+sampled_char\n",
        "\n",
        "        # Exit condition: either hit max length\n",
        "        # or find stop character.\n",
        "        if (sampled_char == '_END' or\n",
        "           len(decoded_sentence) > 50):\n",
        "            stop_condition = True\n",
        "\n",
        "        # Update the target sequence (of length 1).\n",
        "        target_seq = np.zeros((1,1))\n",
        "        target_seq[0, 0] = sampled_token_index\n",
        "\n",
        "        # Update states\n",
        "        states_value = [h, c]\n",
        "\n",
        "    return decoded_sentence"
      ],
      "metadata": {
        "id": "Iz1hjIARnTTs"
      },
      "execution_count": null,
      "outputs": []
    },
    {
      "cell_type": "code",
      "source": [
        "k+=1\n",
        "(input_seq, actual_output), _ = next(train_gen)\n",
        "decoded_sentence = decode_sequence(input_seq)\n",
        "print('Input Hindi sentence:', X_train[k:k+1].values[0])\n",
        "print('Actual cg Translation:', y_train[k:k+1].values[0][6:-4])\n",
        "print('Predicted cg Translation:', decoded_sentence[:-4])"
      ],
      "metadata": {
        "id": "p7MiMJiZnTXN",
        "colab": {
          "base_uri": "https://localhost:8080/"
        },
        "outputId": "aa5f13ac-7c61-42ca-fe61-dbb6f2a057d0"
      },
      "execution_count": null,
      "outputs": [
        {
          "output_type": "stream",
          "name": "stdout",
          "text": [
            "1/1 [==============================] - 2s 2s/step\n",
            "1/1 [==============================] - 2s 2s/step\n",
            "1/1 [==============================] - 0s 26ms/step\n",
            "1/1 [==============================] - 0s 26ms/step\n",
            "Input Hindi sentence: तुमने लिखा\n",
            "Actual cg Translation:  तुमन लिखेव \n",
            "Predicted cg Translation:  तें लिखेस \n"
          ]
        }
      ]
    },
    {
      "cell_type": "code",
      "source": [
        "k+=1\n",
        "(input_seq, actual_output), _ = next(train_gen)\n",
        "decoded_sentence = decode_sequence(input_seq)\n",
        "print('Input Hindi sentence:', X_train[k:k+1].values[0])\n",
        "print('Actual cg Translation:', y_train[k:k+1].values[0][6:-4])\n",
        "print('Predicted cg Translation:', decoded_sentence[:-4])"
      ],
      "metadata": {
        "id": "AFI_ZtvXnTa3",
        "colab": {
          "base_uri": "https://localhost:8080/"
        },
        "outputId": "ec2c1b4b-e448-403d-e0c7-c3e8f062de08"
      },
      "execution_count": null,
      "outputs": [
        {
          "output_type": "stream",
          "name": "stdout",
          "text": [
            "1/1 [==============================] - 0s 24ms/step\n",
            "1/1 [==============================] - 0s 23ms/step\n",
            "1/1 [==============================] - 0s 25ms/step\n",
            "1/1 [==============================] - 0s 23ms/step\n",
            "1/1 [==============================] - 0s 24ms/step\n",
            "1/1 [==============================] - 0s 38ms/step\n",
            "1/1 [==============================] - 0s 30ms/step\n",
            "1/1 [==============================] - 0s 25ms/step\n",
            "1/1 [==============================] - 0s 24ms/step\n",
            "1/1 [==============================] - 0s 30ms/step\n",
            "1/1 [==============================] - 0s 28ms/step\n",
            "1/1 [==============================] - 0s 24ms/step\n",
            "Input Hindi sentence: हरिया का घर यहीं से सीधा है कहीं और मत जाना\n",
            "Actual cg Translation:  हरिया के घर ईंहा ले सोज्झे हे अंते झन जाबे \n",
            "Predicted cg Translation:  हरिया के घर ईंहा ले सोज्झे हे अंते झन जाबे \n"
          ]
        }
      ]
    },
    {
      "cell_type": "code",
      "source": [
        "k+=1\n",
        "(input_seq, actual_output), _ = next(train_gen)\n",
        "decoded_sentence = decode_sequence(input_seq)\n",
        "print('Input Hindi sentence:', X_train[k:k+1].values[0])\n",
        "print('Actual cg Translation:', y_train[k:k+1].values[0][6:-4])\n",
        "print('Predicted cg Translation:', decoded_sentence[:-4])"
      ],
      "metadata": {
        "id": "Lt7C2y1CnTeh",
        "colab": {
          "base_uri": "https://localhost:8080/"
        },
        "outputId": "1e399036-356c-4c7f-b757-27c80d63a2c1"
      },
      "execution_count": null,
      "outputs": [
        {
          "output_type": "stream",
          "name": "stdout",
          "text": [
            "1/1 [==============================] - 0s 24ms/step\n",
            "1/1 [==============================] - 0s 23ms/step\n",
            "1/1 [==============================] - 0s 24ms/step\n",
            "1/1 [==============================] - 0s 24ms/step\n",
            "1/1 [==============================] - 0s 24ms/step\n",
            "1/1 [==============================] - 0s 26ms/step\n",
            "1/1 [==============================] - 0s 27ms/step\n",
            "1/1 [==============================] - 0s 28ms/step\n",
            "1/1 [==============================] - 0s 32ms/step\n",
            "1/1 [==============================] - 0s 23ms/step\n",
            "Input Hindi sentence: मुसीबत में काम आये वही मित्र है\n",
            "Actual cg Translation:  अटके परे म काम आथे तउने मितान हे \n",
            "Predicted cg Translation:  अटके परे म काम आथे तउने मितान हे \n"
          ]
        }
      ]
    },
    {
      "cell_type": "markdown",
      "source": [
        "**Take a input from User**"
      ],
      "metadata": {
        "id": "DTk0ZmYeboRG"
      }
    },
    {
      "cell_type": "code",
      "source": [
        "from keras.models import load_model, Model\n",
        "import numpy as np\n",
        "from keras.preprocessing.text import Tokenizer\n",
        "from keras.preprocessing.sequence import pad_sequences\n",
        "\n",
        "# Load the saved model\n",
        "model = load_model('hindi_to_cg.h5')\n",
        "\n",
        "# Assume you have already defined and loaded `encoder_model` and `decoder_model` as per the previous steps.\n",
        "\n",
        "# Function to process input sentence\n",
        "def process_input(input_text, input_token_index, max_length_src):\n",
        "    input_seq = np.zeros((1, max_length_src))\n",
        "    for t, word in enumerate(input_text.split()):\n",
        "        if word in input_token_index:\n",
        "            input_seq[0, t] = input_token_index[word]\n",
        "        else:\n",
        "            input_seq[0, t] = input_token_index['<UNK>']  # Handle unknown words if needed\n",
        "    return input_seq\n",
        "\n",
        "# Function to decode sequence using decoder model\n",
        "def decode_sequence(input_seq, encoder_model, decoder_model, target_token_index, reverse_target_char_index):\n",
        "    # Encode the input as state vectors.\n",
        "    states_value = encoder_model.predict(input_seq)\n",
        "\n",
        "    # Generate empty target sequence of length 1.\n",
        "    target_seq = np.zeros((1, 1))\n",
        "    # Populate the first character of target sequence with the start character.\n",
        "    target_seq[0, 0] = target_token_index['START_']\n",
        "\n",
        "    # Sampling loop for a batch of sequences\n",
        "    stop_condition = False\n",
        "    decoded_sentence = ''\n",
        "    while not stop_condition:\n",
        "        output_tokens, h, c = decoder_model.predict([target_seq] + states_value)\n",
        "\n",
        "        # Sample a token\n",
        "        sampled_token_index = np.argmax(output_tokens[0, -1, :])\n",
        "        sampled_char = reverse_target_char_index[sampled_token_index]\n",
        "        decoded_sentence += ' ' + sampled_char\n",
        "\n",
        "        # Exit condition: either hit max length or find stop character.\n",
        "        if (sampled_char == '_END' or len(decoded_sentence) > 50):\n",
        "            stop_condition = True\n",
        "\n",
        "        # Update the target sequence (of length 1).\n",
        "        target_seq = np.zeros((1, 1))\n",
        "        target_seq[0, 0] = sampled_token_index\n",
        "\n",
        "        # Update states\n",
        "        states_value = [h, c]\n",
        "\n",
        "    return decoded_sentence\n",
        "\n",
        "# Example usage to process input from user\n",
        "def main():\n",
        "    while True:\n",
        "        input_text = input(\"Enter a Hindi sentence (type 'exit' to quit): \").strip().lower()\n",
        "        if input_text == 'exit':\n",
        "            break\n",
        "\n",
        "        # Process input\n",
        "        input_seq = process_input(input_text, input_token_index, max_length_src)\n",
        "\n",
        "        # Decode sequence\n",
        "        decoded_sentence = decode_sequence(input_seq, encoder_model, decoder_model, target_token_index, reverse_target_char_index)\n",
        "\n",
        "        # Print results\n",
        "        print('Input Hindi sentence:', input_text)\n",
        "        print('Predicted cg Translation:', decoded_sentence[:-4])  # Remove _END token from output\n",
        "\n",
        "# Assuming you have `input_token_index`, `target_token_index`, and `reverse_target_char_index` defined already\n",
        "\n",
        "# Example call to start the application\n",
        "if __name__ == '__main__':\n",
        "    main()\n"
      ],
      "metadata": {
        "id": "DB4QJcsJnTl8",
        "colab": {
          "base_uri": "https://localhost:8080/"
        },
        "outputId": "0f69b27f-c7da-4316-f257-353964df6795"
      },
      "execution_count": 39,
      "outputs": [
        {
          "name": "stdout",
          "output_type": "stream",
          "text": [
            "Enter a Hindi sentence (type 'exit' to quit): यह प्रश्न साधारण है  \n",
            "1/1 [==============================] - 0s 24ms/step\n",
            "1/1 [==============================] - 0s 26ms/step\n",
            "1/1 [==============================] - 0s 25ms/step\n",
            "1/1 [==============================] - 0s 23ms/step\n",
            "1/1 [==============================] - 0s 26ms/step\n",
            "1/1 [==============================] - 0s 24ms/step\n",
            "Input Hindi sentence: यह प्रश्न साधारण है\n",
            "Predicted cg Translation:  ए सवाल सोज्झे हे \n",
            "Enter a Hindi sentence (type 'exit' to quit): गणित में तीर तुक्का नहीं चलता \n",
            "1/1 [==============================] - 0s 28ms/step\n",
            "1/1 [==============================] - 0s 30ms/step\n",
            "1/1 [==============================] - 0s 25ms/step\n",
            "1/1 [==============================] - 0s 24ms/step\n",
            "1/1 [==============================] - 0s 22ms/step\n",
            "1/1 [==============================] - 0s 23ms/step\n",
            "1/1 [==============================] - 0s 22ms/step\n",
            "Input Hindi sentence: गणित में तीर तुक्का नहीं चलता\n",
            "Predicted cg Translation:  गणित में अटकरपंचे नी चलय \n",
            "Enter a Hindi sentence (type 'exit' to quit): exit\n"
          ]
        }
      ]
    },
    {
      "cell_type": "markdown",
      "source": [
        "**Bleu Score**"
      ],
      "metadata": {
        "id": "Cr2buo_bgOOb"
      }
    },
    {
      "cell_type": "code",
      "source": [
        "import numpy as np\n",
        "from keras.models import load_model, Model\n",
        "from keras.preprocessing.text import Tokenizer\n",
        "from keras.preprocessing.sequence import pad_sequences\n",
        "import nltk\n",
        "from nltk.translate.bleu_score import sentence_bleu, SmoothingFunction\n",
        "import pandas as pd\n",
        "import re"
      ],
      "metadata": {
        "id": "9YNyYXobj3ge"
      },
      "execution_count": 76,
      "outputs": []
    },
    {
      "cell_type": "code",
      "source": [
        "# Function to process input sentence\n",
        "def process_input(input_text, input_token_index, max_length_src):\n",
        "    input_seq = np.zeros((1, max_length_src))\n",
        "    for t, word in enumerate(input_text.split()):\n",
        "        if word in input_token_index:\n",
        "            input_seq[0, t] = input_token_index[word]\n",
        "        else:\n",
        "            input_seq[0, t] = input_token_index['<UNK>']  # Handle unknown words\n",
        "    return input_seq\n"
      ],
      "metadata": {
        "id": "wVqVWIy8jvCn"
      },
      "execution_count": 77,
      "outputs": []
    },
    {
      "cell_type": "code",
      "source": [
        "# Function to decode sequence using decoder model\n",
        "def decode_sequence(input_seq, encoder_model, decoder_model, target_token_index, reverse_target_char_index):\n",
        "    # Encode the input as state vectors.\n",
        "    states_value = encoder_model.predict(input_seq)\n",
        "\n",
        "    # Generate empty target sequence of length 1.\n",
        "    target_seq = np.zeros((1, 1))\n",
        "    # Populate the first character of target sequence with the start character.\n",
        "    target_seq[0, 0] = target_token_index['START_']\n",
        "\n",
        "    # Sampling loop for a batch of sequences\n",
        "    stop_condition = False\n",
        "    decoded_sentence = ''\n",
        "    while not stop_condition:\n",
        "        output_tokens, h, c = decoder_model.predict([target_seq] + states_value)\n",
        "\n",
        "        # Sample a token\n",
        "        sampled_token_index = np.argmax(output_tokens[0, -1, :])\n",
        "        sampled_char = reverse_target_char_index[sampled_token_index]\n",
        "        decoded_sentence += ' ' + sampled_char\n",
        "\n",
        "        # Exit condition: either hit max length or find stop character.\n",
        "        if (sampled_char == '_END' or len(decoded_sentence) > 50):\n",
        "            stop_condition = True\n",
        "\n",
        "        # Update the target sequence (of length 1).\n",
        "        target_seq = np.zeros((1, 1))\n",
        "        target_seq[0, 0] = sampled_token_index\n",
        "\n",
        "        # Update states\n",
        "        states_value = [h, c]\n",
        "\n",
        "    # Remove start and end tokens\n",
        "    decoded_sentence = decoded_sentence.replace('START_', '').replace('_END', '').strip()\n",
        "    return decoded_sentence\n"
      ],
      "metadata": {
        "id": "w7C1ps9dnTp2"
      },
      "execution_count": 78,
      "outputs": []
    },
    {
      "cell_type": "code",
      "source": [
        "nltk.download('punkt')"
      ],
      "metadata": {
        "colab": {
          "base_uri": "https://localhost:8080/"
        },
        "id": "be3CG0xFhDHq",
        "outputId": "725ed8c0-3c69-40e6-d540-004088984636"
      },
      "execution_count": 72,
      "outputs": [
        {
          "output_type": "stream",
          "name": "stderr",
          "text": [
            "[nltk_data] Downloading package punkt to /root/nltk_data...\n",
            "[nltk_data]   Package punkt is already up-to-date!\n"
          ]
        },
        {
          "output_type": "execute_result",
          "data": {
            "text/plain": [
              "True"
            ]
          },
          "metadata": {},
          "execution_count": 72
        }
      ]
    },
    {
      "cell_type": "code",
      "source": [
        "# Function to calculate BLEU score with smoothing, ignoring '<UNK>' token\n",
        "def calculate_bleu(actual, predicted):\n",
        "    chencherry = SmoothingFunction()\n",
        "    actual_tokens = [token for token in nltk.word_tokenize(actual) if token != '<UNK>']\n",
        "    predicted_tokens = [token for token in nltk.word_tokenize(predicted) if token != '<UNK>']\n",
        "    return sentence_bleu([actual_tokens], predicted_tokens, smoothing_function=chencherry.method1)\n"
      ],
      "metadata": {
        "id": "Cy2lOd2KnTt4"
      },
      "execution_count": 79,
      "outputs": []
    },
    {
      "cell_type": "code",
      "source": [
        "# Function to calculate average BLEU score for dataset\n",
        "def calculate_average_bleu_for_dataset(dataset, input_token_index, max_length_src, encoder_model, decoder_model, target_token_index, reverse_target_char_index):\n",
        "    total_bleu_score = 0.0\n",
        "    num_samples = len(dataset)\n",
        "\n",
        "    for index, row in dataset.iterrows():\n",
        "        input_text = row['hindi_sentance']\n",
        "        actual_output = row['cg_sentance']\n",
        "\n",
        "        # Process input\n",
        "        input_seq = process_input(input_text, input_token_index, max_length_src)\n",
        "\n",
        "        # Decode sequence\n",
        "        predicted_output = decode_sequence(input_seq, encoder_model, decoder_model, target_token_index, reverse_target_char_index)\n",
        "\n",
        "        # Calculate BLEU score\n",
        "        bleu_score = calculate_bleu(actual_output, predicted_output)\n",
        "        total_bleu_score += bleu_score\n",
        "\n",
        "    average_bleu_score = total_bleu_score / num_samples\n",
        "    return average_bleu_score\n"
      ],
      "metadata": {
        "id": "txmuROZvnTxx"
      },
      "execution_count": 80,
      "outputs": []
    },
    {
      "cell_type": "code",
      "source": [
        "# Load your dataset\n",
        "lines = pd.read_excel(\"work.xlsx\")  # Adjust the file path as needed\n",
        "lines = lines[:256]\n",
        "\n",
        "# Preprocess the dataset (assuming the preprocessing steps are the same as before)\n",
        "lines['hindi_sentance'] = lines['hindi_sentance'].apply(lambda x: str(x).lower().strip())\n",
        "lines['cg_sentance'] = lines['cg_sentance'].apply(lambda x: 'START_ ' + str(x).lower().strip() + ' _END')\n",
        "lines['hindi_sentance'] = lines['hindi_sentance'].apply(lambda x: re.sub(\" +\", \" \", x))\n",
        "lines['cg_sentance'] = lines['cg_sentance'].apply(lambda x: re.sub(\" +\", \" \", x))\n",
        "\n",
        "# Assume `input_token_index`, `target_token_index`, `reverse_target_char_index`, `max_length_src`, `encoder_model`, and `decoder_model` are defined as before\n",
        "# Example call to calculate average BLEU score for the dataset\n",
        "average_bleu_score = calculate_average_bleu_for_dataset(lines, input_token_index, max_length_src, encoder_model, decoder_model, target_token_index, reverse_target_char_index)\n",
        "\n",
        "# Print average BLEU score\n",
        "print(f'Average BLEU Score for the dataset: {average_bleu_score:.4f}')"
      ],
      "metadata": {
        "id": "4niuE29SzTQt"
      },
      "execution_count": null,
      "outputs": []
    }
  ]
}